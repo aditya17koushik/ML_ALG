{
 "cells": [
  {
   "cell_type": "code",
   "execution_count": 2,
   "id": "b13d9eaa-3247-4d9b-a4a2-2d29c4947375",
   "metadata": {},
   "outputs": [],
   "source": [
    "from sklearn.datasets import load_wine\n",
    "from sklearn.ensemble import GradientBoostingRegressor\n",
    "from sklearn.model_selection import train_test_split\n",
    "from sklearn.metrics import mean_squared_error, r2_score\n",
    "import pandas as pd\n",
    "\n",
    "# Step 1: Load the Wine dataset\n",
    "wine = load_wine()\n",
    "X = wine.data\n",
    "y = wine.target  # Wine quality score as the target\n",
    "\n",
    "# Step 2: Split the dataset into training and testing sets\n",
    "X_train, X_test, y_train, y_test = train_test_split(X, y, test_size=0.3, random_state=42)\n",
    "\n",
    "# Step 3: Initialize the GradientBoostingRegressor\n",
    "gbr = GradientBoostingRegressor(\n",
    "    n_estimators=100,  # Number of boosting stages\n",
    "    learning_rate=0.1,  # Shrinkage factor for contributions\n",
    "    max_depth=3,       # Maximum depth of individual trees\n",
    "    random_state=42\n",
    ")\n",
    "\n",
    "# Step 4: Train the model\n",
    "gbr.fit(X_train, y_train)\n",
    "\n",
    "# Step 5: Predict on the test set\n",
    "y_pred = gbr.predict(X_test)\n",
    "\n",
    "# Step 6: Evaluate the model\n",
    "\n",
    "r2 = r2_score(y_test, y_pred)"
   ]
  },
  {
   "cell_type": "code",
   "execution_count": 3,
   "id": "396ac3cb-8a17-487e-a5dd-af7b1dcf32e4",
   "metadata": {},
   "outputs": [
    {
     "data": {
      "text/plain": [
       "0.8081600803615614"
      ]
     },
     "execution_count": 3,
     "metadata": {},
     "output_type": "execute_result"
    }
   ],
   "source": [
    "r2"
   ]
  },
  {
   "cell_type": "code",
   "execution_count": null,
   "id": "6cad39bb-0eea-452b-b939-709ee9447d34",
   "metadata": {},
   "outputs": [],
   "source": []
  }
 ],
 "metadata": {
  "kernelspec": {
   "display_name": "Python 3 (ipykernel)",
   "language": "python",
   "name": "python3"
  },
  "language_info": {
   "codemirror_mode": {
    "name": "ipython",
    "version": 3
   },
   "file_extension": ".py",
   "mimetype": "text/x-python",
   "name": "python",
   "nbconvert_exporter": "python",
   "pygments_lexer": "ipython3",
   "version": "3.11.7"
  }
 },
 "nbformat": 4,
 "nbformat_minor": 5
}
