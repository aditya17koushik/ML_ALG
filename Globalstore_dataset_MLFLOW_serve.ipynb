{
 "cells": [
  {
   "cell_type": "code",
   "execution_count": null,
   "id": "7cc6963c-5d16-4e00-93b4-09cfb02eecdb",
   "metadata": {},
   "outputs": [],
   "source": [
    "import os\n",
    "os.environ['GIT_PYTHON_REFRESH']='quiet'\n",
    "os.environ['MLFLOW_TRACKING_URI']='file:///Users/Documents/Janardhan/m2'"
   ]
  },
  {
   "cell_type": "code",
   "execution_count": null,
   "id": "2102802d-308d-4228-b644-32cae92966c3",
   "metadata": {},
   "outputs": [],
   "source": [
    "import mlflow\n",
    "\n",
    "all_runs = mlflow.search_runs(search_all_experiments=True)\n",
    "print(all_runs)"
   ]
  },
  {
   "cell_type": "code",
   "execution_count": null,
   "id": "cbf94313-030a-485a-859a-3e32fc26b399",
   "metadata": {},
   "outputs": [],
   "source": [
    "!mlflow models serve -p 8004 -m runs:/481311154b784132a4ccdaf9932eea31/random-forest-model  --no-conda"
   ]
  },
  {
   "cell_type": "code",
   "execution_count": null,
   "id": "66df8dc8-a373-4185-879a-967fc8b46274",
   "metadata": {},
   "outputs": [],
   "source": []
  }
 ],
 "metadata": {
  "kernelspec": {
   "display_name": "Python 3 (ipykernel)",
   "language": "python",
   "name": "python3"
  },
  "language_info": {
   "codemirror_mode": {
    "name": "ipython",
    "version": 3
   },
   "file_extension": ".py",
   "mimetype": "text/x-python",
   "name": "python",
   "nbconvert_exporter": "python",
   "pygments_lexer": "ipython3",
   "version": "3.11.7"
  }
 },
 "nbformat": 4,
 "nbformat_minor": 5
}
