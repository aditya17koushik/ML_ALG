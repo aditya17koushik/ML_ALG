{
 "cells": [
  {
   "cell_type": "code",
   "execution_count": null,
   "id": "1b02f014-df26-41eb-802a-eddb0454506e",
   "metadata": {},
   "outputs": [],
   "source": [
    "from sklearn.datasets import load_wine\n",
    "from sklearn.ensemble import AdaBoostRegressor\n",
    "from sklearn.tree import DecisionTreeRegressor\n",
    "from sklearn.model_selection import train_test_split\n",
    "from sklearn.metrics import mean_squared_error, r2_score\n",
    "\n",
    "# Step 1: Load the Wine dataset\n",
    "wine = load_wine()\n",
    "X = wine.data\n",
    "y = wine.target\n",
    "\n",
    "# Step 2: Split the dataset into training and testing sets\n",
    " \n",
    "\n",
    "# Step 3: Initialize the AdaBoostRegressor with a DecisionTreeRegressor as the base estimator\n",
    "base_estimator = DecisionTreeRegressor(max_depth=4)  # Weak learner\n",
    "adaboost_regressor = AdaBoostRegressor(\n",
    "    base_estimator=base_estimator,\n",
    "    n_estimators=50,  # Number of boosting stages\n",
    "    learning_rate=0.1,  # Shrinkage factor\n",
    "    random_state=42\n",
    ")\n",
    "\n",
    "# Step 4: Train the regressor\n",
    "adaboost_regressor.fit(X_train, y_train)\n",
    "\n",
    "# Step 5: Predict on the test set\n",
    "y_pred = adaboost_regressor.predict(X_test)\n",
    "\n",
    "# Step 6: Evaluate the model\n",
    "mse = mean_squared_error(y_test, y_pred)\n",
    "r2 = r2_score(y_test, y_pred)\n"
   ]
  },
  {
   "cell_type": "code",
   "execution_count": 2,
   "id": "a8eded27-89a3-4929-9435-bcae378278cb",
   "metadata": {},
   "outputs": [
    {
     "data": {
      "text/plain": [
       "0.9692657939669892"
      ]
     },
     "execution_count": 2,
     "metadata": {},
     "output_type": "execute_result"
    }
   ],
   "source": [
    "r2"
   ]
  },
  {
   "cell_type": "code",
   "execution_count": null,
   "id": "cd27cdf8-7de8-4dfc-a75d-29a43330ea8f",
   "metadata": {},
   "outputs": [],
   "source": []
  }
 ],
 "metadata": {
  "kernelspec": {
   "display_name": "Python 3 (ipykernel)",
   "language": "python",
   "name": "python3"
  },
  "language_info": {
   "codemirror_mode": {
    "name": "ipython",
    "version": 3
   },
   "file_extension": ".py",
   "mimetype": "text/x-python",
   "name": "python",
   "nbconvert_exporter": "python",
   "pygments_lexer": "ipython3",
   "version": "3.11.7"
  }
 },
 "nbformat": 4,
 "nbformat_minor": 5
}
