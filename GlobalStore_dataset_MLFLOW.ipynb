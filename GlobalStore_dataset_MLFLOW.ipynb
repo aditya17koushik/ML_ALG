{
 "cells": [
  {
   "cell_type": "code",
   "execution_count": 1,
   "id": "c3f48888",
   "metadata": {},
   "outputs": [],
   "source": [
    "import pandas as pd"
   ]
  },
  {
   "cell_type": "code",
   "execution_count": null,
   "id": "bbf5d4d3",
   "metadata": {},
   "outputs": [],
   "source": [
    "df=pd.read_excel(\"C:\\\\Users\\\\Downloads\\\\global_superstore\\\\Global Superstore.xls\")"
   ]
  },
  {
   "cell_type": "code",
   "execution_count": 6,
   "id": "5ce10514",
   "metadata": {},
   "outputs": [
    {
     "data": {
      "text/plain": [
       "(51290, 24)"
      ]
     },
     "execution_count": 6,
     "metadata": {},
     "output_type": "execute_result"
    }
   ],
   "source": [
    "df.shape"
   ]
  },
  {
   "cell_type": "code",
   "execution_count": 7,
   "id": "559412c5",
   "metadata": {},
   "outputs": [
    {
     "data": {
      "text/plain": [
       "Index(['Row ID', 'Order ID', 'Order Date', 'Ship Date', 'Ship Mode',\n",
       "       'Customer ID', 'Customer Name', 'Segment', 'City', 'State', 'Country',\n",
       "       'Postal Code', 'Market', 'Region', 'Product ID', 'Category',\n",
       "       'Sub-Category', 'Product Name', 'Sales', 'Quantity', 'Discount',\n",
       "       'Profit', 'Shipping Cost', 'Order Priority'],\n",
       "      dtype='object')"
      ]
     },
     "execution_count": 7,
     "metadata": {},
     "output_type": "execute_result"
    }
   ],
   "source": [
    "df.columns"
   ]
  },
  {
   "cell_type": "code",
   "execution_count": 8,
   "id": "1904c606",
   "metadata": {},
   "outputs": [
    {
     "data": {
      "text/plain": [
       "Row ID                     int64\n",
       "Order ID                  object\n",
       "Order Date        datetime64[ns]\n",
       "Ship Date         datetime64[ns]\n",
       "Ship Mode                 object\n",
       "Customer ID               object\n",
       "Customer Name             object\n",
       "Segment                   object\n",
       "City                      object\n",
       "State                     object\n",
       "Country                   object\n",
       "Postal Code              float64\n",
       "Market                    object\n",
       "Region                    object\n",
       "Product ID                object\n",
       "Category                  object\n",
       "Sub-Category              object\n",
       "Product Name              object\n",
       "Sales                    float64\n",
       "Quantity                   int64\n",
       "Discount                 float64\n",
       "Profit                   float64\n",
       "Shipping Cost            float64\n",
       "Order Priority            object\n",
       "dtype: object"
      ]
     },
     "execution_count": 8,
     "metadata": {},
     "output_type": "execute_result"
    }
   ],
   "source": [
    "df.dtypes"
   ]
  },
  {
   "cell_type": "code",
   "execution_count": 9,
   "id": "ec7a663b",
   "metadata": {},
   "outputs": [],
   "source": [
    "from matplotlib import pyplot as plt\n",
    "from matplotlib import style\n",
    "import seaborn as sns\n",
    "%matplotlib inline"
   ]
  },
  {
   "cell_type": "markdown",
   "id": "27446b7a",
   "metadata": {},
   "source": [
    "# values outside interquartile range(25% to 75%) is called outlier"
   ]
  },
  {
   "cell_type": "code",
   "execution_count": 10,
   "id": "dffe5c39",
   "metadata": {},
   "outputs": [
    {
     "data": {
      "text/html": [
       "<div>\n",
       "<style scoped>\n",
       "    .dataframe tbody tr th:only-of-type {\n",
       "        vertical-align: middle;\n",
       "    }\n",
       "\n",
       "    .dataframe tbody tr th {\n",
       "        vertical-align: top;\n",
       "    }\n",
       "\n",
       "    .dataframe thead th {\n",
       "        text-align: right;\n",
       "    }\n",
       "</style>\n",
       "<table border=\"1\" class=\"dataframe\">\n",
       "  <thead>\n",
       "    <tr style=\"text-align: right;\">\n",
       "      <th></th>\n",
       "      <th>Row ID</th>\n",
       "      <th>Order Date</th>\n",
       "      <th>Ship Date</th>\n",
       "      <th>Postal Code</th>\n",
       "      <th>Sales</th>\n",
       "      <th>Quantity</th>\n",
       "      <th>Discount</th>\n",
       "      <th>Profit</th>\n",
       "      <th>Shipping Cost</th>\n",
       "    </tr>\n",
       "  </thead>\n",
       "  <tbody>\n",
       "    <tr>\n",
       "      <th>count</th>\n",
       "      <td>51290.00000</td>\n",
       "      <td>51290</td>\n",
       "      <td>51290</td>\n",
       "      <td>9994.000000</td>\n",
       "      <td>51290.000000</td>\n",
       "      <td>51290.000000</td>\n",
       "      <td>51290.000000</td>\n",
       "      <td>51290.000000</td>\n",
       "      <td>51290.000000</td>\n",
       "    </tr>\n",
       "    <tr>\n",
       "      <th>mean</th>\n",
       "      <td>25645.50000</td>\n",
       "      <td>2013-05-11 21:26:49.155781120</td>\n",
       "      <td>2013-05-15 20:42:42.745174528</td>\n",
       "      <td>55190.379428</td>\n",
       "      <td>246.490581</td>\n",
       "      <td>3.476545</td>\n",
       "      <td>0.142908</td>\n",
       "      <td>28.610982</td>\n",
       "      <td>26.375818</td>\n",
       "    </tr>\n",
       "    <tr>\n",
       "      <th>min</th>\n",
       "      <td>1.00000</td>\n",
       "      <td>2011-01-01 00:00:00</td>\n",
       "      <td>2011-01-03 00:00:00</td>\n",
       "      <td>1040.000000</td>\n",
       "      <td>0.444000</td>\n",
       "      <td>1.000000</td>\n",
       "      <td>0.000000</td>\n",
       "      <td>-6599.978000</td>\n",
       "      <td>0.002000</td>\n",
       "    </tr>\n",
       "    <tr>\n",
       "      <th>25%</th>\n",
       "      <td>12823.25000</td>\n",
       "      <td>2012-06-19 00:00:00</td>\n",
       "      <td>2012-06-23 00:00:00</td>\n",
       "      <td>23223.000000</td>\n",
       "      <td>30.758625</td>\n",
       "      <td>2.000000</td>\n",
       "      <td>0.000000</td>\n",
       "      <td>0.000000</td>\n",
       "      <td>2.610000</td>\n",
       "    </tr>\n",
       "    <tr>\n",
       "      <th>50%</th>\n",
       "      <td>25645.50000</td>\n",
       "      <td>2013-07-08 00:00:00</td>\n",
       "      <td>2013-07-12 00:00:00</td>\n",
       "      <td>56430.500000</td>\n",
       "      <td>85.053000</td>\n",
       "      <td>3.000000</td>\n",
       "      <td>0.000000</td>\n",
       "      <td>9.240000</td>\n",
       "      <td>7.790000</td>\n",
       "    </tr>\n",
       "    <tr>\n",
       "      <th>75%</th>\n",
       "      <td>38467.75000</td>\n",
       "      <td>2014-05-22 00:00:00</td>\n",
       "      <td>2014-05-26 00:00:00</td>\n",
       "      <td>90008.000000</td>\n",
       "      <td>251.053200</td>\n",
       "      <td>5.000000</td>\n",
       "      <td>0.200000</td>\n",
       "      <td>36.810000</td>\n",
       "      <td>24.450000</td>\n",
       "    </tr>\n",
       "    <tr>\n",
       "      <th>max</th>\n",
       "      <td>51290.00000</td>\n",
       "      <td>2014-12-31 00:00:00</td>\n",
       "      <td>2015-01-07 00:00:00</td>\n",
       "      <td>99301.000000</td>\n",
       "      <td>22638.480000</td>\n",
       "      <td>14.000000</td>\n",
       "      <td>0.850000</td>\n",
       "      <td>8399.976000</td>\n",
       "      <td>933.570000</td>\n",
       "    </tr>\n",
       "    <tr>\n",
       "      <th>std</th>\n",
       "      <td>14806.29199</td>\n",
       "      <td>NaN</td>\n",
       "      <td>NaN</td>\n",
       "      <td>32063.693350</td>\n",
       "      <td>487.565361</td>\n",
       "      <td>2.278766</td>\n",
       "      <td>0.212280</td>\n",
       "      <td>174.340972</td>\n",
       "      <td>57.296810</td>\n",
       "    </tr>\n",
       "  </tbody>\n",
       "</table>\n",
       "</div>"
      ],
      "text/plain": [
       "            Row ID                     Order Date  \\\n",
       "count  51290.00000                          51290   \n",
       "mean   25645.50000  2013-05-11 21:26:49.155781120   \n",
       "min        1.00000            2011-01-01 00:00:00   \n",
       "25%    12823.25000            2012-06-19 00:00:00   \n",
       "50%    25645.50000            2013-07-08 00:00:00   \n",
       "75%    38467.75000            2014-05-22 00:00:00   \n",
       "max    51290.00000            2014-12-31 00:00:00   \n",
       "std    14806.29199                            NaN   \n",
       "\n",
       "                           Ship Date   Postal Code         Sales  \\\n",
       "count                          51290   9994.000000  51290.000000   \n",
       "mean   2013-05-15 20:42:42.745174528  55190.379428    246.490581   \n",
       "min              2011-01-03 00:00:00   1040.000000      0.444000   \n",
       "25%              2012-06-23 00:00:00  23223.000000     30.758625   \n",
       "50%              2013-07-12 00:00:00  56430.500000     85.053000   \n",
       "75%              2014-05-26 00:00:00  90008.000000    251.053200   \n",
       "max              2015-01-07 00:00:00  99301.000000  22638.480000   \n",
       "std                              NaN  32063.693350    487.565361   \n",
       "\n",
       "           Quantity      Discount        Profit  Shipping Cost  \n",
       "count  51290.000000  51290.000000  51290.000000   51290.000000  \n",
       "mean       3.476545      0.142908     28.610982      26.375818  \n",
       "min        1.000000      0.000000  -6599.978000       0.002000  \n",
       "25%        2.000000      0.000000      0.000000       2.610000  \n",
       "50%        3.000000      0.000000      9.240000       7.790000  \n",
       "75%        5.000000      0.200000     36.810000      24.450000  \n",
       "max       14.000000      0.850000   8399.976000     933.570000  \n",
       "std        2.278766      0.212280    174.340972      57.296810  "
      ]
     },
     "execution_count": 10,
     "metadata": {},
     "output_type": "execute_result"
    }
   ],
   "source": [
    "df.describe()"
   ]
  },
  {
   "cell_type": "markdown",
   "id": "9151ea9f",
   "metadata": {},
   "source": [
    "# Outlier Treatment"
   ]
  },
  {
   "cell_type": "code",
   "execution_count": 11,
   "id": "6a6da68a",
   "metadata": {},
   "outputs": [
    {
     "data": {
      "text/plain": [
       "{'whiskers': [<matplotlib.lines.Line2D at 0x1bc1601a490>,\n",
       "  <matplotlib.lines.Line2D at 0x1bc16958510>],\n",
       " 'caps': [<matplotlib.lines.Line2D at 0x1bc16959fd0>,\n",
       "  <matplotlib.lines.Line2D at 0x1bc168faf50>],\n",
       " 'boxes': [<matplotlib.lines.Line2D at 0x1bc16948f50>],\n",
       " 'medians': [<matplotlib.lines.Line2D at 0x1bc168fbb10>],\n",
       " 'fliers': [<matplotlib.lines.Line2D at 0x1bc16731250>],\n",
       " 'means': []}"
      ]
     },
     "execution_count": 11,
     "metadata": {},
     "output_type": "execute_result"
    },
    {
     "data": {
      "image/png": "[encoded data removed]",
      "text/plain": [
       "<Figure size 640x480 with 1 Axes>"
      ]
     },
     "metadata": {},
     "output_type": "display_data"
    }
   ],
   "source": [
    "plt.boxplot(df[\"Profit\"])"
   ]
  },
  {
   "cell_type": "code",
   "execution_count": 12,
   "id": "8754cd71",
   "metadata": {},
   "outputs": [
    {
     "data": {
      "text/plain": [
       "0.10     -30.5712\n",
       "0.25       0.0000\n",
       "0.50       9.2400\n",
       "0.75      36.8100\n",
       "1.00    8399.9760\n",
       "Name: Profit, dtype: float64"
      ]
     },
     "execution_count": 12,
     "metadata": {},
     "output_type": "execute_result"
    }
   ],
   "source": [
    "df[\"Profit\"].quantile([0.1,0.25,0.5,0.75,1.0])"
   ]
  },
  {
   "cell_type": "code",
   "execution_count": 13,
   "id": "cbdbfe75",
   "metadata": {},
   "outputs": [
    {
     "data": {
      "text/plain": [
       "(51290, 24)"
      ]
     },
     "execution_count": 13,
     "metadata": {},
     "output_type": "execute_result"
    }
   ],
   "source": [
    "df.shape"
   ]
  },
  {
   "cell_type": "code",
   "execution_count": 14,
   "id": "3d156c22",
   "metadata": {},
   "outputs": [],
   "source": [
    "df_1=df[(df[\"Profit\"] >=0.0) & (df[\"Profit\"] <=36.8100)]"
   ]
  },
  {
   "cell_type": "code",
   "execution_count": 15,
   "id": "6b993f84",
   "metadata": {},
   "outputs": [
    {
     "data": {
      "text/plain": [
       "(25928, 24)"
      ]
     },
     "execution_count": 15,
     "metadata": {},
     "output_type": "execute_result"
    }
   ],
   "source": [
    "df_1.shape"
   ]
  },
  {
   "cell_type": "code",
   "execution_count": 16,
   "id": "99a91dcd",
   "metadata": {},
   "outputs": [
    {
     "data": {
      "text/plain": [
       "{'whiskers': [<matplotlib.lines.Line2D at 0x1bc17dd3190>,\n",
       "  <matplotlib.lines.Line2D at 0x1bc17dd3d90>],\n",
       " 'caps': [<matplotlib.lines.Line2D at 0x1bc17de49d0>,\n",
       "  <matplotlib.lines.Line2D at 0x1bc17de54d0>],\n",
       " 'boxes': [<matplotlib.lines.Line2D at 0x1bc16006050>],\n",
       " 'medians': [<matplotlib.lines.Line2D at 0x1bc17de6010>],\n",
       " 'fliers': [<matplotlib.lines.Line2D at 0x1bc17de6b10>],\n",
       " 'means': []}"
      ]
     },
     "execution_count": 16,
     "metadata": {},
     "output_type": "execute_result"
    },
    {
     "data": {
      "image/png": "[encoded data removed]",
      "text/plain": [
       "<Figure size 640x480 with 1 Axes>"
      ]
     },
     "metadata": {},
     "output_type": "display_data"
    }
   ],
   "source": [
    "plt.boxplot(df_1[\"Profit\"])"
   ]
  },
  {
   "cell_type": "code",
   "execution_count": 17,
   "id": "7a1ef9a6",
   "metadata": {},
   "outputs": [
    {
     "data": {
      "text/plain": [
       "{'whiskers': [<matplotlib.lines.Line2D at 0x1bc17dfae50>,\n",
       "  <matplotlib.lines.Line2D at 0x1bc17e34e10>],\n",
       " 'caps': [<matplotlib.lines.Line2D at 0x1bc17e35a90>,\n",
       "  <matplotlib.lines.Line2D at 0x1bc17e36490>],\n",
       " 'boxes': [<matplotlib.lines.Line2D at 0x1bc17e1f710>],\n",
       " 'medians': [<matplotlib.lines.Line2D at 0x1bc17e36f50>],\n",
       " 'fliers': [<matplotlib.lines.Line2D at 0x1bc17e37a50>],\n",
       " 'means': []}"
      ]
     },
     "execution_count": 17,
     "metadata": {},
     "output_type": "execute_result"
    },
    {
     "data": {
      "image/png": "[encoded data removed]",
      "text/plain": [
       "<Figure size 640x480 with 1 Axes>"
      ]
     },
     "metadata": {},
     "output_type": "display_data"
    }
   ],
   "source": [
    "plt.boxplot(df_1[\"Sales\"])"
   ]
  },
  {
   "cell_type": "code",
   "execution_count": 18,
   "id": "03ab7b5c",
   "metadata": {},
   "outputs": [
    {
     "data": {
      "text/plain": [
       "0.10      12.54\n",
       "0.25      23.64\n",
       "0.50      48.78\n",
       "0.75      96.18\n",
       "1.00    3616.50\n",
       "Name: Sales, dtype: float64"
      ]
     },
     "execution_count": 18,
     "metadata": {},
     "output_type": "execute_result"
    }
   ],
   "source": [
    "df_1[\"Sales\"].quantile([0.1,0.25,0.5,0.75,1.0])"
   ]
  },
  {
   "cell_type": "code",
   "execution_count": 19,
   "id": "a93d8a8d",
   "metadata": {},
   "outputs": [],
   "source": [
    "df_2=df_1[(df_1[\"Sales\"] >=23.64) & (df_1[\"Sales\"] <=96.18)]"
   ]
  },
  {
   "cell_type": "code",
   "execution_count": 20,
   "id": "e3ccb4a4",
   "metadata": {},
   "outputs": [
    {
     "data": {
      "text/plain": [
       "(12977, 24)"
      ]
     },
     "execution_count": 20,
     "metadata": {},
     "output_type": "execute_result"
    }
   ],
   "source": [
    "df_2.shape"
   ]
  },
  {
   "cell_type": "code",
   "execution_count": 21,
   "id": "c921eeb8",
   "metadata": {},
   "outputs": [
    {
     "data": {
      "text/plain": [
       "{'whiskers': [<matplotlib.lines.Line2D at 0x1bc1c608bd0>,\n",
       "  <matplotlib.lines.Line2D at 0x1bc1c609810>],\n",
       " 'caps': [<matplotlib.lines.Line2D at 0x1bc1c60a450>,\n",
       "  <matplotlib.lines.Line2D at 0x1bc1c60afd0>],\n",
       " 'boxes': [<matplotlib.lines.Line2D at 0x1bc17dce050>],\n",
       " 'medians': [<matplotlib.lines.Line2D at 0x1bc1c60b9d0>],\n",
       " 'fliers': [<matplotlib.lines.Line2D at 0x1bc1c610590>],\n",
       " 'means': []}"
      ]
     },
     "execution_count": 21,
     "metadata": {},
     "output_type": "execute_result"
    },
    {
     "data": {
      "image/png": "[encoded data removed]",
      "text/plain": [
       "<Figure size 640x480 with 1 Axes>"
      ]
     },
     "metadata": {},
     "output_type": "display_data"
    }
   ],
   "source": [
    "plt.boxplot(df_2[\"Sales\"])"
   ]
  },
  {
   "cell_type": "code",
   "execution_count": 22,
   "id": "38438600",
   "metadata": {},
   "outputs": [
    {
     "data": {
      "text/plain": [
       "{'whiskers': [<matplotlib.lines.Line2D at 0x1bc19ba2390>,\n",
       "  <matplotlib.lines.Line2D at 0x1bc19ba2e50>],\n",
       " 'caps': [<matplotlib.lines.Line2D at 0x1bc1c62b550>,\n",
       "  <matplotlib.lines.Line2D at 0x1bc19bb8510>],\n",
       " 'boxes': [<matplotlib.lines.Line2D at 0x1bc19ba17d0>],\n",
       " 'medians': [<matplotlib.lines.Line2D at 0x1bc19bb9010>],\n",
       " 'fliers': [<matplotlib.lines.Line2D at 0x1bc19bb9b10>],\n",
       " 'means': []}"
      ]
     },
     "execution_count": 22,
     "metadata": {},
     "output_type": "execute_result"
    },
    {
     "data": {
      "image/png": "[encoded data removed]",
      "text/plain": [
       "<Figure size 640x480 with 1 Axes>"
      ]
     },
     "metadata": {},
     "output_type": "display_data"
    }
   ],
   "source": [
    "plt.boxplot(df_2[\"Quantity\"])"
   ]
  },
  {
   "cell_type": "code",
   "execution_count": 23,
   "id": "285fa8df",
   "metadata": {},
   "outputs": [
    {
     "data": {
      "text/plain": [
       "0.10     1.0\n",
       "0.25     2.0\n",
       "0.50     3.0\n",
       "0.75     4.0\n",
       "1.00    14.0\n",
       "Name: Quantity, dtype: float64"
      ]
     },
     "execution_count": 23,
     "metadata": {},
     "output_type": "execute_result"
    }
   ],
   "source": [
    "df_2[\"Quantity\"].quantile([0.1,0.25,0.5,0.75,1.0])"
   ]
  },
  {
   "cell_type": "code",
   "execution_count": 24,
   "id": "39efa281",
   "metadata": {},
   "outputs": [],
   "source": [
    "df_3=df_2[(df_2[\"Quantity\"] >=2.0) & (df_2[\"Quantity\"] <=4.0)]"
   ]
  },
  {
   "cell_type": "code",
   "execution_count": 25,
   "id": "1d4468b7",
   "metadata": {},
   "outputs": [
    {
     "data": {
      "text/plain": [
       "(7906, 24)"
      ]
     },
     "execution_count": 25,
     "metadata": {},
     "output_type": "execute_result"
    }
   ],
   "source": [
    "df_3.shape"
   ]
  },
  {
   "cell_type": "code",
   "execution_count": 26,
   "id": "493231b0",
   "metadata": {},
   "outputs": [
    {
     "data": {
      "text/plain": [
       "{'whiskers': [<matplotlib.lines.Line2D at 0x1bc19b8c890>,\n",
       "  <matplotlib.lines.Line2D at 0x1bc19b8d4d0>],\n",
       " 'caps': [<matplotlib.lines.Line2D at 0x1bc19b8e0d0>,\n",
       "  <matplotlib.lines.Line2D at 0x1bc19b8ebd0>],\n",
       " 'boxes': [<matplotlib.lines.Line2D at 0x1bc19b60490>],\n",
       " 'medians': [<matplotlib.lines.Line2D at 0x1bc19b8f610>],\n",
       " 'fliers': [<matplotlib.lines.Line2D at 0x1bc19bac0d0>],\n",
       " 'means': []}"
      ]
     },
     "execution_count": 26,
     "metadata": {},
     "output_type": "execute_result"
    },
    {
     "data": {
      "image/png": "[encoded data removed]",
      "text/plain": [
       "<Figure size 640x480 with 1 Axes>"
      ]
     },
     "metadata": {},
     "output_type": "display_data"
    }
   ],
   "source": [
    "plt.boxplot(df_3[\"Quantity\"])"
   ]
  },
  {
   "cell_type": "code",
   "execution_count": 27,
   "id": "e64011f6",
   "metadata": {},
   "outputs": [
    {
     "data": {
      "text/plain": [
       "{'whiskers': [<matplotlib.lines.Line2D at 0x1bc1886dc50>,\n",
       "  <matplotlib.lines.Line2D at 0x1bc1886e890>],\n",
       " 'caps': [<matplotlib.lines.Line2D at 0x1bc1886f410>,\n",
       "  <matplotlib.lines.Line2D at 0x1bc1886ffd0>],\n",
       " 'boxes': [<matplotlib.lines.Line2D at 0x1bc1886d350>],\n",
       " 'medians': [<matplotlib.lines.Line2D at 0x1bc1888c9d0>],\n",
       " 'fliers': [<matplotlib.lines.Line2D at 0x1bc1888d490>],\n",
       " 'means': []}"
      ]
     },
     "execution_count": 27,
     "metadata": {},
     "output_type": "execute_result"
    },
    {
     "data": {
      "image/png": "[encoded data removed]",
      "text/plain": [
       "<Figure size 640x480 with 1 Axes>"
      ]
     },
     "metadata": {},
     "output_type": "display_data"
    }
   ],
   "source": [
    "plt.boxplot(df_3[\"Shipping Cost\"])"
   ]
  },
  {
   "cell_type": "code",
   "execution_count": 28,
   "id": "8aaad2a4",
   "metadata": {},
   "outputs": [
    {
     "data": {
      "text/plain": [
       "0.10     1.72000\n",
       "0.25     2.70000\n",
       "0.50     4.46100\n",
       "0.75     7.23675\n",
       "1.00    47.28000\n",
       "Name: Shipping Cost, dtype: float64"
      ]
     },
     "execution_count": 28,
     "metadata": {},
     "output_type": "execute_result"
    }
   ],
   "source": [
    "df_3[\"Shipping Cost\"].quantile([0.1,0.25,0.5,0.75,1.0])"
   ]
  },
  {
   "cell_type": "code",
   "execution_count": 29,
   "id": "771fef27",
   "metadata": {},
   "outputs": [],
   "source": [
    "df_4=df_3[(df_3[\"Shipping Cost\"] >=2.70) & (df_3[\"Shipping Cost\"] <=7.23675)]"
   ]
  },
  {
   "cell_type": "code",
   "execution_count": 30,
   "id": "13e6b0e7",
   "metadata": {},
   "outputs": [
    {
     "data": {
      "text/plain": [
       "(3953, 24)"
      ]
     },
     "execution_count": 30,
     "metadata": {},
     "output_type": "execute_result"
    }
   ],
   "source": [
    "df_4.shape"
   ]
  },
  {
   "cell_type": "code",
   "execution_count": 31,
   "id": "bbc3460f",
   "metadata": {},
   "outputs": [
    {
     "data": {
      "text/plain": [
       "{'whiskers': [<matplotlib.lines.Line2D at 0x1bc18923ad0>,\n",
       "  <matplotlib.lines.Line2D at 0x1bc18938750>],\n",
       " 'caps': [<matplotlib.lines.Line2D at 0x1bc189393d0>,\n",
       "  <matplotlib.lines.Line2D at 0x1bc18939ed0>],\n",
       " 'boxes': [<matplotlib.lines.Line2D at 0x1bc168fe390>],\n",
       " 'medians': [<matplotlib.lines.Line2D at 0x1bc1893a910>],\n",
       " 'fliers': [<matplotlib.lines.Line2D at 0x1bc1893b450>],\n",
       " 'means': []}"
      ]
     },
     "execution_count": 31,
     "metadata": {},
     "output_type": "execute_result"
    },
    {
     "data": {
      "image/png": "[encoded data removed]",
      "text/plain": [
       "<Figure size 640x480 with 1 Axes>"
      ]
     },
     "metadata": {},
     "output_type": "display_data"
    }
   ],
   "source": [
    "plt.boxplot(df_4[\"Shipping Cost\"])"
   ]
  },
  {
   "cell_type": "code",
   "execution_count": 32,
   "id": "aa5680bd",
   "metadata": {},
   "outputs": [
    {
     "data": {
      "text/html": [
       "<div>\n",
       "<style scoped>\n",
       "    .dataframe tbody tr th:only-of-type {\n",
       "        vertical-align: middle;\n",
       "    }\n",
       "\n",
       "    .dataframe tbody tr th {\n",
       "        vertical-align: top;\n",
       "    }\n",
       "\n",
       "    .dataframe thead th {\n",
       "        text-align: right;\n",
       "    }\n",
       "</style>\n",
       "<table border=\"1\" class=\"dataframe\">\n",
       "  <thead>\n",
       "    <tr style=\"text-align: right;\">\n",
       "      <th></th>\n",
       "      <th>Row ID</th>\n",
       "      <th>Order ID</th>\n",
       "      <th>Order Date</th>\n",
       "      <th>Ship Date</th>\n",
       "      <th>Ship Mode</th>\n",
       "      <th>Customer ID</th>\n",
       "      <th>Customer Name</th>\n",
       "      <th>Segment</th>\n",
       "      <th>City</th>\n",
       "      <th>State</th>\n",
       "      <th>...</th>\n",
       "      <th>Product ID</th>\n",
       "      <th>Category</th>\n",
       "      <th>Sub-Category</th>\n",
       "      <th>Product Name</th>\n",
       "      <th>Sales</th>\n",
       "      <th>Quantity</th>\n",
       "      <th>Discount</th>\n",
       "      <th>Profit</th>\n",
       "      <th>Shipping Cost</th>\n",
       "      <th>Order Priority</th>\n",
       "    </tr>\n",
       "  </thead>\n",
       "  <tbody>\n",
       "    <tr>\n",
       "      <th>26583</th>\n",
       "      <td>10778</td>\n",
       "      <td>ES-2014-5617990</td>\n",
       "      <td>2014-09-11</td>\n",
       "      <td>2014-09-12</td>\n",
       "      <td>First Class</td>\n",
       "      <td>LW-16825</td>\n",
       "      <td>Laurel Workman</td>\n",
       "      <td>Corporate</td>\n",
       "      <td>Schiltigheim</td>\n",
       "      <td>Alsace</td>\n",
       "      <td>...</td>\n",
       "      <td>OFF-SU-10003160</td>\n",
       "      <td>Office Supplies</td>\n",
       "      <td>Supplies</td>\n",
       "      <td>Acme Ruler, High Speed</td>\n",
       "      <td>33.420</td>\n",
       "      <td>2</td>\n",
       "      <td>0.0</td>\n",
       "      <td>1.320</td>\n",
       "      <td>7.23</td>\n",
       "      <td>High</td>\n",
       "    </tr>\n",
       "    <tr>\n",
       "      <th>26584</th>\n",
       "      <td>17129</td>\n",
       "      <td>ES-2014-3096832</td>\n",
       "      <td>2014-07-04</td>\n",
       "      <td>2014-07-09</td>\n",
       "      <td>Standard Class</td>\n",
       "      <td>BW-11065</td>\n",
       "      <td>Barry Weirich</td>\n",
       "      <td>Consumer</td>\n",
       "      <td>Catania</td>\n",
       "      <td>Sicily</td>\n",
       "      <td>...</td>\n",
       "      <td>OFF-AR-10002145</td>\n",
       "      <td>Office Supplies</td>\n",
       "      <td>Art</td>\n",
       "      <td>Binney &amp; Smith Sketch Pad, Fluorescent</td>\n",
       "      <td>95.160</td>\n",
       "      <td>2</td>\n",
       "      <td>0.0</td>\n",
       "      <td>4.740</td>\n",
       "      <td>7.23</td>\n",
       "      <td>Medium</td>\n",
       "    </tr>\n",
       "    <tr>\n",
       "      <th>26586</th>\n",
       "      <td>21231</td>\n",
       "      <td>IN-2012-45951</td>\n",
       "      <td>2012-11-02</td>\n",
       "      <td>2012-11-06</td>\n",
       "      <td>Standard Class</td>\n",
       "      <td>JG-15115</td>\n",
       "      <td>Jack Garza</td>\n",
       "      <td>Consumer</td>\n",
       "      <td>Bhopal</td>\n",
       "      <td>Madhya Pradesh</td>\n",
       "      <td>...</td>\n",
       "      <td>OFF-EN-10000315</td>\n",
       "      <td>Office Supplies</td>\n",
       "      <td>Envelopes</td>\n",
       "      <td>Jiffy Business Envelopes, Security-Tint</td>\n",
       "      <td>47.880</td>\n",
       "      <td>3</td>\n",
       "      <td>0.0</td>\n",
       "      <td>9.090</td>\n",
       "      <td>7.23</td>\n",
       "      <td>High</td>\n",
       "    </tr>\n",
       "    <tr>\n",
       "      <th>26587</th>\n",
       "      <td>23945</td>\n",
       "      <td>IN-2012-40547</td>\n",
       "      <td>2012-11-29</td>\n",
       "      <td>2012-11-30</td>\n",
       "      <td>First Class</td>\n",
       "      <td>GT-14710</td>\n",
       "      <td>Greg Tran</td>\n",
       "      <td>Consumer</td>\n",
       "      <td>Adelaide</td>\n",
       "      <td>South Australia</td>\n",
       "      <td>...</td>\n",
       "      <td>OFF-BI-10004685</td>\n",
       "      <td>Office Supplies</td>\n",
       "      <td>Binders</td>\n",
       "      <td>Acco Binder, Economy</td>\n",
       "      <td>40.905</td>\n",
       "      <td>3</td>\n",
       "      <td>0.1</td>\n",
       "      <td>9.495</td>\n",
       "      <td>7.23</td>\n",
       "      <td>High</td>\n",
       "    </tr>\n",
       "    <tr>\n",
       "      <th>26594</th>\n",
       "      <td>31408</td>\n",
       "      <td>CA-2013-128867</td>\n",
       "      <td>2013-11-04</td>\n",
       "      <td>2013-11-11</td>\n",
       "      <td>Standard Class</td>\n",
       "      <td>CL-12565</td>\n",
       "      <td>Clay Ludtke</td>\n",
       "      <td>Consumer</td>\n",
       "      <td>Urbandale</td>\n",
       "      <td>Iowa</td>\n",
       "      <td>...</td>\n",
       "      <td>OFF-AR-10000380</td>\n",
       "      <td>Office Supplies</td>\n",
       "      <td>Art</td>\n",
       "      <td>Hunt PowerHouse Electric Pencil Sharpener, Blue</td>\n",
       "      <td>75.960</td>\n",
       "      <td>2</td>\n",
       "      <td>0.0</td>\n",
       "      <td>22.788</td>\n",
       "      <td>7.23</td>\n",
       "      <td>Medium</td>\n",
       "    </tr>\n",
       "  </tbody>\n",
       "</table>\n",
       "<p>5 rows × 24 columns</p>\n",
       "</div>"
      ],
      "text/plain": [
       "       Row ID         Order ID Order Date  Ship Date       Ship Mode  \\\n",
       "26583   10778  ES-2014-5617990 2014-09-11 2014-09-12     First Class   \n",
       "26584   17129  ES-2014-3096832 2014-07-04 2014-07-09  Standard Class   \n",
       "26586   21231    IN-2012-45951 2012-11-02 2012-11-06  Standard Class   \n",
       "26587   23945    IN-2012-40547 2012-11-29 2012-11-30     First Class   \n",
       "26594   31408   CA-2013-128867 2013-11-04 2013-11-11  Standard Class   \n",
       "\n",
       "      Customer ID   Customer Name    Segment          City            State  \\\n",
       "26583    LW-16825  Laurel Workman  Corporate  Schiltigheim           Alsace   \n",
       "26584    BW-11065   Barry Weirich   Consumer       Catania           Sicily   \n",
       "26586    JG-15115      Jack Garza   Consumer        Bhopal   Madhya Pradesh   \n",
       "26587    GT-14710       Greg Tran   Consumer      Adelaide  South Australia   \n",
       "26594    CL-12565     Clay Ludtke   Consumer     Urbandale             Iowa   \n",
       "\n",
       "       ...       Product ID         Category Sub-Category  \\\n",
       "26583  ...  OFF-SU-10003160  Office Supplies     Supplies   \n",
       "26584  ...  OFF-AR-10002145  Office Supplies          Art   \n",
       "26586  ...  OFF-EN-10000315  Office Supplies    Envelopes   \n",
       "26587  ...  OFF-BI-10004685  Office Supplies      Binders   \n",
       "26594  ...  OFF-AR-10000380  Office Supplies          Art   \n",
       "\n",
       "                                          Product Name   Sales Quantity  \\\n",
       "26583                           Acme Ruler, High Speed  33.420        2   \n",
       "26584           Binney & Smith Sketch Pad, Fluorescent  95.160        2   \n",
       "26586          Jiffy Business Envelopes, Security-Tint  47.880        3   \n",
       "26587                             Acco Binder, Economy  40.905        3   \n",
       "26594  Hunt PowerHouse Electric Pencil Sharpener, Blue  75.960        2   \n",
       "\n",
       "      Discount  Profit  Shipping Cost  Order Priority  \n",
       "26583      0.0   1.320           7.23            High  \n",
       "26584      0.0   4.740           7.23          Medium  \n",
       "26586      0.0   9.090           7.23            High  \n",
       "26587      0.1   9.495           7.23            High  \n",
       "26594      0.0  22.788           7.23          Medium  \n",
       "\n",
       "[5 rows x 24 columns]"
      ]
     },
     "execution_count": 32,
     "metadata": {},
     "output_type": "execute_result"
    }
   ],
   "source": [
    "df_4.head()"
   ]
  },
  {
   "cell_type": "markdown",
   "id": "e787ef67",
   "metadata": {},
   "source": [
    "1. boxplot => to identify outlier\n",
    "2. outlier => simple and effective IQR technique"
   ]
  },
  {
   "cell_type": "markdown",
   "id": "9106dce3",
   "metadata": {},
   "source": [
    "# Missing value imputations"
   ]
  },
  {
   "cell_type": "code",
   "execution_count": 33,
   "id": "d169901c",
   "metadata": {},
   "outputs": [
    {
     "data": {
      "text/plain": [
       "Row ID               0\n",
       "Order ID             0\n",
       "Order Date           0\n",
       "Ship Date            0\n",
       "Ship Mode            0\n",
       "Customer ID          0\n",
       "Customer Name        0\n",
       "Segment              0\n",
       "City                 0\n",
       "State                0\n",
       "Country              0\n",
       "Postal Code       3268\n",
       "Market               0\n",
       "Region               0\n",
       "Product ID           0\n",
       "Category             0\n",
       "Sub-Category         0\n",
       "Product Name         0\n",
       "Sales                0\n",
       "Quantity             0\n",
       "Discount             0\n",
       "Profit               0\n",
       "Shipping Cost        0\n",
       "Order Priority       0\n",
       "dtype: int64"
      ]
     },
     "execution_count": 33,
     "metadata": {},
     "output_type": "execute_result"
    }
   ],
   "source": [
    "df_4.isnull().sum()"
   ]
  },
  {
   "cell_type": "code",
   "execution_count": null,
   "id": "72f36130",
   "metadata": {},
   "outputs": [],
   "source": [
    "df_4.drop([\"Postal Code\"],axis=1,inplace=True)"
   ]
  },
  {
   "cell_type": "code",
   "execution_count": 35,
   "id": "7fa56329",
   "metadata": {},
   "outputs": [
    {
     "data": {
      "text/plain": [
       "Row ID            0\n",
       "Order ID          0\n",
       "Order Date        0\n",
       "Ship Date         0\n",
       "Ship Mode         0\n",
       "Customer ID       0\n",
       "Customer Name     0\n",
       "Segment           0\n",
       "City              0\n",
       "State             0\n",
       "Country           0\n",
       "Market            0\n",
       "Region            0\n",
       "Product ID        0\n",
       "Category          0\n",
       "Sub-Category      0\n",
       "Product Name      0\n",
       "Sales             0\n",
       "Quantity          0\n",
       "Discount          0\n",
       "Profit            0\n",
       "Shipping Cost     0\n",
       "Order Priority    0\n",
       "dtype: int64"
      ]
     },
     "execution_count": 35,
     "metadata": {},
     "output_type": "execute_result"
    }
   ],
   "source": [
    "df_4.isnull().sum()"
   ]
  },
  {
   "cell_type": "code",
   "execution_count": 36,
   "id": "d794f063",
   "metadata": {},
   "outputs": [],
   "source": [
    "import numpy as np"
   ]
  },
  {
   "cell_type": "code",
   "execution_count": 37,
   "id": "87c6ce2c",
   "metadata": {},
   "outputs": [],
   "source": [
    "df4_num=df_4.select_dtypes(include=[np.number])"
   ]
  },
  {
   "cell_type": "code",
   "execution_count": 38,
   "id": "d8361211",
   "metadata": {},
   "outputs": [],
   "source": [
    "df4_cat=df_4.select_dtypes(include=[\"object\"])"
   ]
  },
  {
   "cell_type": "code",
   "execution_count": 39,
   "id": "d433abfa",
   "metadata": {},
   "outputs": [
    {
     "data": {
      "text/plain": [
       "Index(['Row ID', 'Sales', 'Quantity', 'Discount', 'Profit', 'Shipping Cost'], dtype='object')"
      ]
     },
     "execution_count": 39,
     "metadata": {},
     "output_type": "execute_result"
    }
   ],
   "source": [
    "df4_num.columns"
   ]
  },
  {
   "cell_type": "code",
   "execution_count": 40,
   "id": "91515ca9",
   "metadata": {},
   "outputs": [
    {
     "data": {
      "text/plain": [
       "Index(['Order ID', 'Ship Mode', 'Customer ID', 'Customer Name', 'Segment',\n",
       "       'City', 'State', 'Country', 'Market', 'Region', 'Product ID',\n",
       "       'Category', 'Sub-Category', 'Product Name', 'Order Priority'],\n",
       "      dtype='object')"
      ]
     },
     "execution_count": 40,
     "metadata": {},
     "output_type": "execute_result"
    }
   ],
   "source": [
    "df4_cat.columns"
   ]
  },
  {
   "cell_type": "markdown",
   "id": "6af6ccd8",
   "metadata": {},
   "source": [
    "# encoding, scaling"
   ]
  },
  {
   "cell_type": "code",
   "execution_count": 41,
   "id": "cc4dc876",
   "metadata": {},
   "outputs": [],
   "source": [
    "df4_num.drop(['Row ID'],axis=1,inplace=True)"
   ]
  },
  {
   "cell_type": "code",
   "execution_count": 42,
   "id": "da61919e",
   "metadata": {},
   "outputs": [],
   "source": [
    "from sklearn import preprocessing"
   ]
  },
  {
   "cell_type": "code",
   "execution_count": 43,
   "id": "2ffbb895",
   "metadata": {},
   "outputs": [],
   "source": [
    "le=preprocessing.LabelEncoder()"
   ]
  },
  {
   "cell_type": "code",
   "execution_count": 44,
   "id": "63330a3c",
   "metadata": {},
   "outputs": [],
   "source": [
    "mm_scaler = preprocessing.MinMaxScaler()"
   ]
  },
  {
   "cell_type": "code",
   "execution_count": 45,
   "id": "5f93e52e",
   "metadata": {},
   "outputs": [],
   "source": [
    "df4_cat_e =df4_cat.apply(le.fit_transform)"
   ]
  },
  {
   "cell_type": "code",
   "execution_count": 46,
   "id": "f0488a67",
   "metadata": {},
   "outputs": [
    {
     "data": {
      "text/plain": [
       "Index(['Sales', 'Quantity', 'Discount', 'Profit', 'Shipping Cost'], dtype='object')"
      ]
     },
     "execution_count": 46,
     "metadata": {},
     "output_type": "execute_result"
    }
   ],
   "source": [
    "df4_num.columns"
   ]
  },
  {
   "cell_type": "code",
   "execution_count": 47,
   "id": "60714ecb",
   "metadata": {},
   "outputs": [],
   "source": [
    "df4_num_mm =mm_scaler.fit_transform(df4_num)"
   ]
  },
  {
   "cell_type": "code",
   "execution_count": 48,
   "id": "f2b3a707",
   "metadata": {},
   "outputs": [],
   "source": [
    "df4_num_mm_sc=pd.DataFrame(df4_num_mm)"
   ]
  },
  {
   "cell_type": "code",
   "execution_count": 49,
   "id": "9dbbcc4f",
   "metadata": {},
   "outputs": [
    {
     "data": {
      "text/html": [
       "<div>\n",
       "<style scoped>\n",
       "    .dataframe tbody tr th:only-of-type {\n",
       "        vertical-align: middle;\n",
       "    }\n",
       "\n",
       "    .dataframe tbody tr th {\n",
       "        vertical-align: top;\n",
       "    }\n",
       "\n",
       "    .dataframe thead th {\n",
       "        text-align: right;\n",
       "    }\n",
       "</style>\n",
       "<table border=\"1\" class=\"dataframe\">\n",
       "  <thead>\n",
       "    <tr style=\"text-align: right;\">\n",
       "      <th></th>\n",
       "      <th>0</th>\n",
       "      <th>1</th>\n",
       "      <th>2</th>\n",
       "      <th>3</th>\n",
       "      <th>4</th>\n",
       "    </tr>\n",
       "  </thead>\n",
       "  <tbody>\n",
       "    <tr>\n",
       "      <th>0</th>\n",
       "      <td>0.134822</td>\n",
       "      <td>0.0</td>\n",
       "      <td>0.0</td>\n",
       "      <td>0.035948</td>\n",
       "      <td>1.0</td>\n",
       "    </tr>\n",
       "    <tr>\n",
       "      <th>1</th>\n",
       "      <td>0.985939</td>\n",
       "      <td>0.0</td>\n",
       "      <td>0.0</td>\n",
       "      <td>0.129085</td>\n",
       "      <td>1.0</td>\n",
       "    </tr>\n",
       "    <tr>\n",
       "      <th>2</th>\n",
       "      <td>0.334160</td>\n",
       "      <td>0.5</td>\n",
       "      <td>0.0</td>\n",
       "      <td>0.247549</td>\n",
       "      <td>1.0</td>\n",
       "    </tr>\n",
       "    <tr>\n",
       "      <th>3</th>\n",
       "      <td>0.238007</td>\n",
       "      <td>0.5</td>\n",
       "      <td>0.2</td>\n",
       "      <td>0.258578</td>\n",
       "      <td>1.0</td>\n",
       "    </tr>\n",
       "    <tr>\n",
       "      <th>4</th>\n",
       "      <td>0.721257</td>\n",
       "      <td>0.0</td>\n",
       "      <td>0.0</td>\n",
       "      <td>0.620588</td>\n",
       "      <td>1.0</td>\n",
       "    </tr>\n",
       "  </tbody>\n",
       "</table>\n",
       "</div>"
      ],
      "text/plain": [
       "          0    1    2         3    4\n",
       "0  0.134822  0.0  0.0  0.035948  1.0\n",
       "1  0.985939  0.0  0.0  0.129085  1.0\n",
       "2  0.334160  0.5  0.0  0.247549  1.0\n",
       "3  0.238007  0.5  0.2  0.258578  1.0\n",
       "4  0.721257  0.0  0.0  0.620588  1.0"
      ]
     },
     "execution_count": 49,
     "metadata": {},
     "output_type": "execute_result"
    }
   ],
   "source": [
    "df4_num_mm_sc.head()"
   ]
  },
  {
   "cell_type": "code",
   "execution_count": 50,
   "id": "6a762d26",
   "metadata": {},
   "outputs": [
    {
     "data": {
      "text/html": [
       "<div>\n",
       "<style scoped>\n",
       "    .dataframe tbody tr th:only-of-type {\n",
       "        vertical-align: middle;\n",
       "    }\n",
       "\n",
       "    .dataframe tbody tr th {\n",
       "        vertical-align: top;\n",
       "    }\n",
       "\n",
       "    .dataframe thead th {\n",
       "        text-align: right;\n",
       "    }\n",
       "</style>\n",
       "<table border=\"1\" class=\"dataframe\">\n",
       "  <thead>\n",
       "    <tr style=\"text-align: right;\">\n",
       "      <th></th>\n",
       "      <th>Order ID</th>\n",
       "      <th>Ship Mode</th>\n",
       "      <th>Customer ID</th>\n",
       "      <th>Customer Name</th>\n",
       "      <th>Segment</th>\n",
       "      <th>City</th>\n",
       "      <th>State</th>\n",
       "      <th>Country</th>\n",
       "      <th>Market</th>\n",
       "      <th>Region</th>\n",
       "      <th>Product ID</th>\n",
       "      <th>Category</th>\n",
       "      <th>Sub-Category</th>\n",
       "      <th>Product Name</th>\n",
       "      <th>Order Priority</th>\n",
       "    </tr>\n",
       "  </thead>\n",
       "  <tbody>\n",
       "    <tr>\n",
       "      <th>26583</th>\n",
       "      <td>1476</td>\n",
       "      <td>0</td>\n",
       "      <td>706</td>\n",
       "      <td>447</td>\n",
       "      <td>1</td>\n",
       "      <td>1229</td>\n",
       "      <td>19</td>\n",
       "      <td>35</td>\n",
       "      <td>4</td>\n",
       "      <td>3</td>\n",
       "      <td>2160</td>\n",
       "      <td>1</td>\n",
       "      <td>14</td>\n",
       "      <td>79</td>\n",
       "      <td>1</td>\n",
       "    </tr>\n",
       "    <tr>\n",
       "      <th>26584</th>\n",
       "      <td>1359</td>\n",
       "      <td>3</td>\n",
       "      <td>183</td>\n",
       "      <td>70</td>\n",
       "      <td>0</td>\n",
       "      <td>282</td>\n",
       "      <td>497</td>\n",
       "      <td>51</td>\n",
       "      <td>4</td>\n",
       "      <td>10</td>\n",
       "      <td>462</td>\n",
       "      <td>1</td>\n",
       "      <td>2</td>\n",
       "      <td>271</td>\n",
       "      <td>3</td>\n",
       "    </tr>\n",
       "    <tr>\n",
       "      <th>26586</th>\n",
       "      <td>1773</td>\n",
       "      <td>3</td>\n",
       "      <td>544</td>\n",
       "      <td>337</td>\n",
       "      <td>0</td>\n",
       "      <td>176</td>\n",
       "      <td>319</td>\n",
       "      <td>46</td>\n",
       "      <td>0</td>\n",
       "      <td>4</td>\n",
       "      <td>923</td>\n",
       "      <td>1</td>\n",
       "      <td>6</td>\n",
       "      <td>739</td>\n",
       "      <td>1</td>\n",
       "    </tr>\n",
       "    <tr>\n",
       "      <th>26587</th>\n",
       "      <td>1758</td>\n",
       "      <td>0</td>\n",
       "      <td>468</td>\n",
       "      <td>310</td>\n",
       "      <td>0</td>\n",
       "      <td>10</td>\n",
       "      <td>506</td>\n",
       "      <td>4</td>\n",
       "      <td>0</td>\n",
       "      <td>9</td>\n",
       "      <td>826</td>\n",
       "      <td>1</td>\n",
       "      <td>3</td>\n",
       "      <td>27</td>\n",
       "      <td>1</td>\n",
       "    </tr>\n",
       "    <tr>\n",
       "      <th>26594</th>\n",
       "      <td>353</td>\n",
       "      <td>3</td>\n",
       "      <td>232</td>\n",
       "      <td>169</td>\n",
       "      <td>0</td>\n",
       "      <td>1390</td>\n",
       "      <td>246</td>\n",
       "      <td>105</td>\n",
       "      <td>6</td>\n",
       "      <td>3</td>\n",
       "      <td>352</td>\n",
       "      <td>1</td>\n",
       "      <td>2</td>\n",
       "      <td>697</td>\n",
       "      <td>3</td>\n",
       "    </tr>\n",
       "  </tbody>\n",
       "</table>\n",
       "</div>"
      ],
      "text/plain": [
       "       Order ID  Ship Mode  Customer ID  Customer Name  Segment  City  State  \\\n",
       "26583      1476          0          706            447        1  1229     19   \n",
       "26584      1359          3          183             70        0   282    497   \n",
       "26586      1773          3          544            337        0   176    319   \n",
       "26587      1758          0          468            310        0    10    506   \n",
       "26594       353          3          232            169        0  1390    246   \n",
       "\n",
       "       Country  Market  Region  Product ID  Category  Sub-Category  \\\n",
       "26583       35       4       3        2160         1            14   \n",
       "26584       51       4      10         462         1             2   \n",
       "26586       46       0       4         923         1             6   \n",
       "26587        4       0       9         826         1             3   \n",
       "26594      105       6       3         352         1             2   \n",
       "\n",
       "       Product Name  Order Priority  \n",
       "26583            79               1  \n",
       "26584           271               3  \n",
       "26586           739               1  \n",
       "26587            27               1  \n",
       "26594           697               3  "
      ]
     },
     "execution_count": 50,
     "metadata": {},
     "output_type": "execute_result"
    }
   ],
   "source": [
    "df4_cat_e.head()"
   ]
  },
  {
   "cell_type": "code",
   "execution_count": 51,
   "id": "3cec882f",
   "metadata": {},
   "outputs": [],
   "source": [
    "d1=df4_cat_e.reset_index()"
   ]
  },
  {
   "cell_type": "code",
   "execution_count": 52,
   "id": "4243b012",
   "metadata": {},
   "outputs": [
    {
     "data": {
      "text/html": [
       "<div>\n",
       "<style scoped>\n",
       "    .dataframe tbody tr th:only-of-type {\n",
       "        vertical-align: middle;\n",
       "    }\n",
       "\n",
       "    .dataframe tbody tr th {\n",
       "        vertical-align: top;\n",
       "    }\n",
       "\n",
       "    .dataframe thead th {\n",
       "        text-align: right;\n",
       "    }\n",
       "</style>\n",
       "<table border=\"1\" class=\"dataframe\">\n",
       "  <thead>\n",
       "    <tr style=\"text-align: right;\">\n",
       "      <th></th>\n",
       "      <th>index</th>\n",
       "      <th>Order ID</th>\n",
       "      <th>Ship Mode</th>\n",
       "      <th>Customer ID</th>\n",
       "      <th>Customer Name</th>\n",
       "      <th>Segment</th>\n",
       "      <th>City</th>\n",
       "      <th>State</th>\n",
       "      <th>Country</th>\n",
       "      <th>Market</th>\n",
       "      <th>Region</th>\n",
       "      <th>Product ID</th>\n",
       "      <th>Category</th>\n",
       "      <th>Sub-Category</th>\n",
       "      <th>Product Name</th>\n",
       "      <th>Order Priority</th>\n",
       "    </tr>\n",
       "  </thead>\n",
       "  <tbody>\n",
       "    <tr>\n",
       "      <th>0</th>\n",
       "      <td>26583</td>\n",
       "      <td>1476</td>\n",
       "      <td>0</td>\n",
       "      <td>706</td>\n",
       "      <td>447</td>\n",
       "      <td>1</td>\n",
       "      <td>1229</td>\n",
       "      <td>19</td>\n",
       "      <td>35</td>\n",
       "      <td>4</td>\n",
       "      <td>3</td>\n",
       "      <td>2160</td>\n",
       "      <td>1</td>\n",
       "      <td>14</td>\n",
       "      <td>79</td>\n",
       "      <td>1</td>\n",
       "    </tr>\n",
       "    <tr>\n",
       "      <th>1</th>\n",
       "      <td>26584</td>\n",
       "      <td>1359</td>\n",
       "      <td>3</td>\n",
       "      <td>183</td>\n",
       "      <td>70</td>\n",
       "      <td>0</td>\n",
       "      <td>282</td>\n",
       "      <td>497</td>\n",
       "      <td>51</td>\n",
       "      <td>4</td>\n",
       "      <td>10</td>\n",
       "      <td>462</td>\n",
       "      <td>1</td>\n",
       "      <td>2</td>\n",
       "      <td>271</td>\n",
       "      <td>3</td>\n",
       "    </tr>\n",
       "    <tr>\n",
       "      <th>2</th>\n",
       "      <td>26586</td>\n",
       "      <td>1773</td>\n",
       "      <td>3</td>\n",
       "      <td>544</td>\n",
       "      <td>337</td>\n",
       "      <td>0</td>\n",
       "      <td>176</td>\n",
       "      <td>319</td>\n",
       "      <td>46</td>\n",
       "      <td>0</td>\n",
       "      <td>4</td>\n",
       "      <td>923</td>\n",
       "      <td>1</td>\n",
       "      <td>6</td>\n",
       "      <td>739</td>\n",
       "      <td>1</td>\n",
       "    </tr>\n",
       "    <tr>\n",
       "      <th>3</th>\n",
       "      <td>26587</td>\n",
       "      <td>1758</td>\n",
       "      <td>0</td>\n",
       "      <td>468</td>\n",
       "      <td>310</td>\n",
       "      <td>0</td>\n",
       "      <td>10</td>\n",
       "      <td>506</td>\n",
       "      <td>4</td>\n",
       "      <td>0</td>\n",
       "      <td>9</td>\n",
       "      <td>826</td>\n",
       "      <td>1</td>\n",
       "      <td>3</td>\n",
       "      <td>27</td>\n",
       "      <td>1</td>\n",
       "    </tr>\n",
       "    <tr>\n",
       "      <th>4</th>\n",
       "      <td>26594</td>\n",
       "      <td>353</td>\n",
       "      <td>3</td>\n",
       "      <td>232</td>\n",
       "      <td>169</td>\n",
       "      <td>0</td>\n",
       "      <td>1390</td>\n",
       "      <td>246</td>\n",
       "      <td>105</td>\n",
       "      <td>6</td>\n",
       "      <td>3</td>\n",
       "      <td>352</td>\n",
       "      <td>1</td>\n",
       "      <td>2</td>\n",
       "      <td>697</td>\n",
       "      <td>3</td>\n",
       "    </tr>\n",
       "  </tbody>\n",
       "</table>\n",
       "</div>"
      ],
      "text/plain": [
       "   index  Order ID  Ship Mode  Customer ID  Customer Name  Segment  City  \\\n",
       "0  26583      1476          0          706            447        1  1229   \n",
       "1  26584      1359          3          183             70        0   282   \n",
       "2  26586      1773          3          544            337        0   176   \n",
       "3  26587      1758          0          468            310        0    10   \n",
       "4  26594       353          3          232            169        0  1390   \n",
       "\n",
       "   State  Country  Market  Region  Product ID  Category  Sub-Category  \\\n",
       "0     19       35       4       3        2160         1            14   \n",
       "1    497       51       4      10         462         1             2   \n",
       "2    319       46       0       4         923         1             6   \n",
       "3    506        4       0       9         826         1             3   \n",
       "4    246      105       6       3         352         1             2   \n",
       "\n",
       "   Product Name  Order Priority  \n",
       "0            79               1  \n",
       "1           271               3  \n",
       "2           739               1  \n",
       "3            27               1  \n",
       "4           697               3  "
      ]
     },
     "execution_count": 52,
     "metadata": {},
     "output_type": "execute_result"
    }
   ],
   "source": [
    "d1.head()"
   ]
  },
  {
   "cell_type": "code",
   "execution_count": 53,
   "id": "85242358",
   "metadata": {},
   "outputs": [],
   "source": [
    "d1.drop([\"index\"],axis=1,inplace=True)"
   ]
  },
  {
   "cell_type": "code",
   "execution_count": 54,
   "id": "91b73bbc",
   "metadata": {},
   "outputs": [],
   "source": [
    "df_final=pd.concat([df4_num_mm_sc,d1],axis=1)"
   ]
  },
  {
   "cell_type": "code",
   "execution_count": 55,
   "id": "d7172b2c",
   "metadata": {},
   "outputs": [],
   "source": [
    "df_final.rename(columns={0:\"Sales\",1:\"Quantity\",2:\"Discount\",3:\"Profit\",4:\"Shipping Cost\"},inplace=True)"
   ]
  },
  {
   "cell_type": "code",
   "execution_count": 56,
   "id": "3127bc7d",
   "metadata": {},
   "outputs": [
    {
     "data": {
      "text/html": [
       "<div>\n",
       "<style scoped>\n",
       "    .dataframe tbody tr th:only-of-type {\n",
       "        vertical-align: middle;\n",
       "    }\n",
       "\n",
       "    .dataframe tbody tr th {\n",
       "        vertical-align: top;\n",
       "    }\n",
       "\n",
       "    .dataframe thead th {\n",
       "        text-align: right;\n",
       "    }\n",
       "</style>\n",
       "<table border=\"1\" class=\"dataframe\">\n",
       "  <thead>\n",
       "    <tr style=\"text-align: right;\">\n",
       "      <th></th>\n",
       "      <th>Sales</th>\n",
       "      <th>Quantity</th>\n",
       "      <th>Discount</th>\n",
       "      <th>Profit</th>\n",
       "      <th>Shipping Cost</th>\n",
       "      <th>Order ID</th>\n",
       "      <th>Ship Mode</th>\n",
       "      <th>Customer ID</th>\n",
       "      <th>Customer Name</th>\n",
       "      <th>Segment</th>\n",
       "      <th>City</th>\n",
       "      <th>State</th>\n",
       "      <th>Country</th>\n",
       "      <th>Market</th>\n",
       "      <th>Region</th>\n",
       "      <th>Product ID</th>\n",
       "      <th>Category</th>\n",
       "      <th>Sub-Category</th>\n",
       "      <th>Product Name</th>\n",
       "      <th>Order Priority</th>\n",
       "    </tr>\n",
       "  </thead>\n",
       "  <tbody>\n",
       "    <tr>\n",
       "      <th>0</th>\n",
       "      <td>0.134822</td>\n",
       "      <td>0.0</td>\n",
       "      <td>0.0</td>\n",
       "      <td>0.035948</td>\n",
       "      <td>1.0</td>\n",
       "      <td>1476</td>\n",
       "      <td>0</td>\n",
       "      <td>706</td>\n",
       "      <td>447</td>\n",
       "      <td>1</td>\n",
       "      <td>1229</td>\n",
       "      <td>19</td>\n",
       "      <td>35</td>\n",
       "      <td>4</td>\n",
       "      <td>3</td>\n",
       "      <td>2160</td>\n",
       "      <td>1</td>\n",
       "      <td>14</td>\n",
       "      <td>79</td>\n",
       "      <td>1</td>\n",
       "    </tr>\n",
       "    <tr>\n",
       "      <th>1</th>\n",
       "      <td>0.985939</td>\n",
       "      <td>0.0</td>\n",
       "      <td>0.0</td>\n",
       "      <td>0.129085</td>\n",
       "      <td>1.0</td>\n",
       "      <td>1359</td>\n",
       "      <td>3</td>\n",
       "      <td>183</td>\n",
       "      <td>70</td>\n",
       "      <td>0</td>\n",
       "      <td>282</td>\n",
       "      <td>497</td>\n",
       "      <td>51</td>\n",
       "      <td>4</td>\n",
       "      <td>10</td>\n",
       "      <td>462</td>\n",
       "      <td>1</td>\n",
       "      <td>2</td>\n",
       "      <td>271</td>\n",
       "      <td>3</td>\n",
       "    </tr>\n",
       "    <tr>\n",
       "      <th>2</th>\n",
       "      <td>0.334160</td>\n",
       "      <td>0.5</td>\n",
       "      <td>0.0</td>\n",
       "      <td>0.247549</td>\n",
       "      <td>1.0</td>\n",
       "      <td>1773</td>\n",
       "      <td>3</td>\n",
       "      <td>544</td>\n",
       "      <td>337</td>\n",
       "      <td>0</td>\n",
       "      <td>176</td>\n",
       "      <td>319</td>\n",
       "      <td>46</td>\n",
       "      <td>0</td>\n",
       "      <td>4</td>\n",
       "      <td>923</td>\n",
       "      <td>1</td>\n",
       "      <td>6</td>\n",
       "      <td>739</td>\n",
       "      <td>1</td>\n",
       "    </tr>\n",
       "    <tr>\n",
       "      <th>3</th>\n",
       "      <td>0.238007</td>\n",
       "      <td>0.5</td>\n",
       "      <td>0.2</td>\n",
       "      <td>0.258578</td>\n",
       "      <td>1.0</td>\n",
       "      <td>1758</td>\n",
       "      <td>0</td>\n",
       "      <td>468</td>\n",
       "      <td>310</td>\n",
       "      <td>0</td>\n",
       "      <td>10</td>\n",
       "      <td>506</td>\n",
       "      <td>4</td>\n",
       "      <td>0</td>\n",
       "      <td>9</td>\n",
       "      <td>826</td>\n",
       "      <td>1</td>\n",
       "      <td>3</td>\n",
       "      <td>27</td>\n",
       "      <td>1</td>\n",
       "    </tr>\n",
       "    <tr>\n",
       "      <th>4</th>\n",
       "      <td>0.721257</td>\n",
       "      <td>0.0</td>\n",
       "      <td>0.0</td>\n",
       "      <td>0.620588</td>\n",
       "      <td>1.0</td>\n",
       "      <td>353</td>\n",
       "      <td>3</td>\n",
       "      <td>232</td>\n",
       "      <td>169</td>\n",
       "      <td>0</td>\n",
       "      <td>1390</td>\n",
       "      <td>246</td>\n",
       "      <td>105</td>\n",
       "      <td>6</td>\n",
       "      <td>3</td>\n",
       "      <td>352</td>\n",
       "      <td>1</td>\n",
       "      <td>2</td>\n",
       "      <td>697</td>\n",
       "      <td>3</td>\n",
       "    </tr>\n",
       "  </tbody>\n",
       "</table>\n",
       "</div>"
      ],
      "text/plain": [
       "      Sales  Quantity  Discount    Profit  Shipping Cost  Order ID  Ship Mode  \\\n",
       "0  0.134822       0.0       0.0  0.035948            1.0      1476          0   \n",
       "1  0.985939       0.0       0.0  0.129085            1.0      1359          3   \n",
       "2  0.334160       0.5       0.0  0.247549            1.0      1773          3   \n",
       "3  0.238007       0.5       0.2  0.258578            1.0      1758          0   \n",
       "4  0.721257       0.0       0.0  0.620588            1.0       353          3   \n",
       "\n",
       "   Customer ID  Customer Name  Segment  City  State  Country  Market  Region  \\\n",
       "0          706            447        1  1229     19       35       4       3   \n",
       "1          183             70        0   282    497       51       4      10   \n",
       "2          544            337        0   176    319       46       0       4   \n",
       "3          468            310        0    10    506        4       0       9   \n",
       "4          232            169        0  1390    246      105       6       3   \n",
       "\n",
       "   Product ID  Category  Sub-Category  Product Name  Order Priority  \n",
       "0        2160         1            14            79               1  \n",
       "1         462         1             2           271               3  \n",
       "2         923         1             6           739               1  \n",
       "3         826         1             3            27               1  \n",
       "4         352         1             2           697               3  "
      ]
     },
     "execution_count": 56,
     "metadata": {},
     "output_type": "execute_result"
    }
   ],
   "source": [
    "df_final.head()"
   ]
  },
  {
   "cell_type": "code",
   "execution_count": 57,
   "id": "710d8795",
   "metadata": {},
   "outputs": [
    {
     "data": {
      "text/plain": [
       "Sales             0\n",
       "Quantity          0\n",
       "Discount          0\n",
       "Profit            0\n",
       "Shipping Cost     0\n",
       "Order ID          0\n",
       "Ship Mode         0\n",
       "Customer ID       0\n",
       "Customer Name     0\n",
       "Segment           0\n",
       "City              0\n",
       "State             0\n",
       "Country           0\n",
       "Market            0\n",
       "Region            0\n",
       "Product ID        0\n",
       "Category          0\n",
       "Sub-Category      0\n",
       "Product Name      0\n",
       "Order Priority    0\n",
       "dtype: int64"
      ]
     },
     "execution_count": 57,
     "metadata": {},
     "output_type": "execute_result"
    }
   ],
   "source": [
    "df_final.isnull().sum()"
   ]
  },
  {
   "cell_type": "code",
   "execution_count": 58,
   "id": "52621624-dc65-4f3d-befa-572ef76ca7fc",
   "metadata": {},
   "outputs": [],
   "source": [
    "Y=df_final[\"Sales\"]"
   ]
  },
  {
   "cell_type": "code",
   "execution_count": 59,
   "id": "e552e9f9-af6b-4c0c-9a28-45929c1d1b14",
   "metadata": {},
   "outputs": [],
   "source": [
    "X=df_final.drop([\"Sales\"],axis=1)"
   ]
  },
  {
   "cell_type": "code",
   "execution_count": 60,
   "id": "d7095196-728a-4237-b85c-2f8082781569",
   "metadata": {},
   "outputs": [],
   "source": [
    "from sklearn.model_selection import train_test_split"
   ]
  },
  {
   "cell_type": "code",
   "execution_count": 61,
   "id": "37aecb67-60fc-4205-97dd-6e7818aebc1e",
   "metadata": {},
   "outputs": [],
   "source": [
    "X_train, X_test, y_train, y_test = train_test_split(X, Y, test_size=0.3, random_state=1)"
   ]
  },
  {
   "cell_type": "code",
   "execution_count": 66,
   "id": "a6a0d9d0-4de7-41b4-b91f-8a9e59fbc31d",
   "metadata": {},
   "outputs": [],
   "source": [
    "import os\n",
    "os.environ['GIT_PYTHON_REFRESH']='quiet'\n",
    "os.environ['MLFLOW_TRACKING_URI']='file:///Users/JANARDHAN/Documents/Janardhan/m2'"
   ]
  },
  {
   "cell_type": "code",
   "execution_count": 69,
   "id": "467ab33e-4c2b-42c3-9d50-19759e9cd453",
   "metadata": {},
   "outputs": [
    {
     "name": "stderr",
     "output_type": "stream",
     "text": [
      "2025/02/02 21:01:46 INFO mlflow.tracking.fluent: Experiment with name 'globalstore-analysis' does not exist. Creating a new experiment.\n"
     ]
    }
   ],
   "source": [
    "mlflow.set_experiment(\"globalstore-analysis\")\n",
    "mlflow.set_experiment_tag('store-tag','ex1')"
   ]
  },
  {
   "cell_type": "code",
   "execution_count": 70,
   "id": "e0f6a53b-ddf3-4e70-aaf9-54b756dd13cf",
   "metadata": {},
   "outputs": [],
   "source": [
    "import mlflow"
   ]
  },
  {
   "cell_type": "code",
   "execution_count": null,
   "id": "a7cb4999-9eac-4847-af23-2d174346422a",
   "metadata": {},
   "outputs": [],
   "source": [
    "with mlflow.start_run():    \n",
    "    from sklearn.ensemble import RandomForestRegressor\n",
    "    from sklearn.ensemble import GradientBoostingRegressor\n",
    "    from sklearn.metrics import r2_score\n",
    "    \n",
    "    # model object initialization\n",
    "    RandFor=RandomForestRegressor(n_estimators=5000,max_depth=6)\n",
    "    GBM=GradientBoostingRegressor(n_estimators=3000,max_depth=6,learning_rate=0.01,min_samples_split=5)\n",
    "    rf_n_estimators=5000\n",
    "    #logging parameters\n",
    "    mlflow.log_param(\"n_estimators\",rf_n_estimators)\n",
    "    mlflow.log_param('rf_max_depth',6)\n",
    "    mlflow.log_param('gbm_n_estimators',3000)\n",
    "    mlflow.log_param('gbm_max_depth',6)\n",
    "    mlflow.log_param('gbm_learning_rate',0.01)\n",
    "    mlflow.log_param('gbm_minimum_samples_split',5)\n",
    "    \n",
    "    #training models\n",
    "    rf=RandFor.fit(X_train,y_train)\n",
    "    gbm=GBM.fit(X_train,y_train)\n",
    "    \n",
    "    #training scores\n",
    "    training_score_rf=RandFor.score(X_train,y_train)\n",
    "    training_score_gbm=GBM.score(X_train,y_train)\n",
    "    \n",
    "    #logging training score\n",
    "    mlflow.log_metric(\"rf_training_score\", training_score_rf)\n",
    "    mlflow.log_metric(\"gbm_training_score\",training_score_gbm)\n",
    "    \n",
    "    #value predictions\n",
    "    y_pred_rf=rf.predict(X_test)\n",
    "    y_pred_gbm=gbm.predict(X_test)\n",
    "    \n",
    "    #prediction evaluations\n",
    "    testing_score_rf=r2_score(y_pred_rf,y_test)\n",
    "    testing_score_gbm=r2_score(y_pred_gbm,y_test)\n",
    "    \n",
    "    #logging evaluation scores\n",
    "    mlflow.log_metric(\"rf_training_score\", testing_score_rf)\n",
    "    mlflow.log_metric(\"gbm_training_score\",testing_score_gbm)\n",
    "    \n",
    "    #logging models\n",
    "    mlflow.sklearn.log_model(rf, \"random-forest-model\")\n",
    "    mlflow.sklearn.log_model(gbm, \"gradient-boosting-model\")\n",
    "\n",
    "    "
   ]
  },
  {
   "cell_type": "code",
   "execution_count": 74,
   "id": "9fa3320e-c2c5-4da4-b23d-1d59999e5bd5",
   "metadata": {},
   "outputs": [
    {
     "name": "stdout",
     "output_type": "stream",
     "text": [
      "{'predictions': [0.820151385361643, 0.4706296316305058, 0.5333794322934767, 0.5520147447125542, 0.6586099258749643, 0.4673490964329913, 0.14400705688304513, 0.2575612687845774, 0.4005653175070365, 0.3642540423680673, 0.19767967253526156, 0.33552841736358774, 0.7124927484254714, 0.1988563755724806, 0.657351713397882, 0.13690956481766361, 0.2724065845308761, 0.2642735024880874, 0.493098530259012, 0.1724791112807864, 0.2847246680621995, 0.7068028306528424, 0.21389657202832876, 0.4929322508585549, 0.4051009211775165, 0.5990920260624716, 0.17168953391619193, 0.15317706441240952, 0.13969855982634988, 0.1510190953332178, 0.5010225171591967, 0.4139139254002251, 0.14427516214169817, 0.26982628658647934, 0.1652453227848676, 0.6831905349907245, 0.2699001577124214, 0.6991715123046562, 0.4053595135277835, 0.35363770574865233, 0.3738807946633641, 0.6219800490641373, 0.13781800033489244, 0.3063094399971975, 0.4757960870460544, 0.16588099634207645, 0.36145176971581755, 0.20875567170056425, 0.28844464821076965, 0.260034699198422, 0.7898429100565203, 0.40158517289714923, 0.14030454339132328, 0.6452189477304338, 0.2810147155471957, 0.1422751371326955, 0.1396773261288797, 0.3161785860698014, 0.16279448569098684, 0.37832739351362277, 0.38888447826417577, 0.29254918769958305, 0.3961966402119662, 0.4897616615274059, 0.177301772366354, 0.3812821829191609, 0.3225074195705214, 0.1772469547763395, 0.1982634579194447, 0.3391506821388076, 0.47328475608610043, 0.1649150336005112, 0.18555060413361946, 0.31121519875592696, 0.462807571635261, 0.46605119512187604, 0.4681112938490548, 0.15039630427233863, 0.536933462074608, 0.6929908103919363, 0.5582849162410184, 0.5476747515803131, 0.7157743612841357, 0.25463159761403303, 0.14929186496583052, 0.32805733245558955, 0.5333856177450756, 0.1439908020270498, 0.45448093973978465, 0.17462131928891375, 0.36290083998137906, 0.1740915387124523, 0.210138515168385, 0.2149425561109193, 0.3252572433675436, 0.6691739051048864, 0.141996153540741, 0.35411356969147223, 0.14467117222313985, 0.2110394710096267, 0.5472619126994415, 0.19612977871238704, 0.2560241086474215, 0.6994281785613168, 0.38253439537762624, 0.43330118634294257, 0.24609261208592106, 0.260522430021316, 0.6006125000321327, 0.42130768706808946, 0.2197988341256066, 0.4013321688387939, 0.3564166719777326, 0.4635730319279638, 0.3268364218387016, 0.43084282702964044, 0.40909520174168257, 0.5580931697808066, 0.14096411675205028, 0.21225387158555076, 0.4603695358121463, 0.2911145922322839, 0.6961833757055478, 0.4437409784675562, 0.15254309912624253, 0.2919722003973614, 0.1428204698651791, 0.19057056193051117, 0.5179462709854434, 0.41188671730153475, 0.14273636419038024, 0.33660082884067555, 0.19941084654801874, 0.6104200078684817, 0.493462347926757, 0.26477610298724297, 0.3524354083374352, 0.23350465327789852, 0.14575881932243895, 0.5494255018794851, 0.4507540564401749, 0.19908158937273665, 0.21433890500705075, 0.42819794077475254, 0.5213926231424353, 0.2431143426581249, 0.3375348872152383, 0.1611765690445199, 0.284064635218806, 0.20547384085353396, 0.23464822537135324, 0.160953495170528, 0.4331068381807235, 0.446404074725971, 0.1949565663707982, 0.2752382163133613, 0.2567771396070276, 0.42136390379952027, 0.47830856298926094, 0.41483611275818383, 0.24967262916335056, 0.22408505729388184, 0.49051169307658576, 0.4336851217680307, 0.2936506433208652, 0.33241404253414575, 0.4175935456668161, 0.4139447854243537, 0.16290304860510027, 0.3227225976388001, 0.32232228590517253, 0.1632796154340067, 0.2831727846594373, 0.17467253773207878, 0.6931563637692504, 0.5851181004735058, 0.19713243180784915, 0.41540312667927226, 0.39065587935647283, 0.47157591286823464, 0.1402588549985525, 0.14668785154683042, 0.25523427520421726, 0.2045041949004451, 0.3268364210902158, 0.15370522566737913, 0.3592143943664647, 0.34285220348728995, 0.546159644654651, 0.4995218206897071, 0.25383244649195286, 0.2577863571072925, 0.4404993325671082, 0.45322034941841793, 0.6869095150772979, 0.21247881685798364, 0.3213294942886225, 0.13621977222275697, 0.43899814216636796, 0.3183215865764325, 0.6078395241922352, 0.37979433597233075, 0.1537227798608184, 0.14927220252759407, 0.3207634986957184, 0.4794630399362623, 0.5405427851472591, 0.3083307651436905, 0.33164331877752457, 0.4443055789310706, 0.4730933240248316, 0.22084387263516447, 0.22324413417062514, 0.5381461403663986, 0.35236830601587227, 0.47041400015108786, 0.2445172813963582, 0.3531867738532049, 0.5772408352982001, 0.2816672688367764, 0.31748491253064703, 0.42984773381682007, 0.20680674992113723, 0.4263437012214089, 0.3250297354941965, 0.47049817101240016, 0.634461208707202, 0.7173537067046758, 0.36132411650973223, 0.5403891462317232, 0.46163807426897546, 0.3602021687143605, 0.7286034939408772, 0.26236436776275823, 0.32624378978152857, 0.3611022436019584, 0.23232945027240381, 0.3645927783756402, 0.28695442618021394, 0.6993171404410655, 0.514876096983965, 0.2551715880696509, 0.38205225220272726, 0.7748256413291081, 0.2025334773059143, 0.4107097311466229, 0.6595647030466918, 0.40230113094216524, 0.15661864398809755, 0.3342255911511321, 0.4546459895895373, 0.3276278583755343, 0.26594065853722765, 0.40735948773737896, 0.41137351658525406, 0.3225839538987835, 0.5437574741377431, 0.8424984089960484, 0.4560779671126643, 0.2040141182108116, 0.6425312903057838, 0.8167130000801298, 0.177189797397973, 0.2763053110817493, 0.27936672244386757, 0.4551381506168263, 0.6551105350354305, 0.5823321136299494, 0.16561541705986638, 0.43949185401007546, 0.44040494905691857, 0.5453313148300146, 0.20997145695301228, 0.402830237385008, 0.5629139183467996, 0.1383675363018976, 0.5305398155472268, 0.2551289442595343, 0.13709298789376595, 0.39077019709550737, 0.28468689826934496, 0.30734742445311497, 0.20050298093258417, 0.477600952795084, 0.5415680781186538, 0.25439538473341383, 0.43622855345292794, 0.5151498690774644, 0.16373041228698537, 0.18346255775859083, 0.14785592864882496, 0.2496391451137884, 0.35578707189427927, 0.29653006079067273, 0.33728628339419203, 0.250358693048948, 0.43727626007301634, 0.3613944227525934, 0.35314788161093214, 0.42033332592439804, 0.33346276985108186, 0.258059247915786, 0.5361742326123676, 0.1413432252802848, 0.4266891887321558, 0.7319404998828173, 0.26600303181323787, 0.7515586202459794, 0.20755188423396698, 0.409862368345436, 0.14967199836800982, 0.5770249255104181, 0.2856730785139705, 0.6273533688592713, 0.28329680999333895, 0.32427979262822126, 0.5958511669362145, 0.374095788174903, 0.4910234907563699, 0.706260152145614, 0.2373470247646144, 0.40682113386631824, 0.1851356285757261, 0.43798006563052166, 0.4944494308181865, 0.20603785390187077, 0.2605919366458576, 0.25936700353178227, 0.32378786283056954, 0.2758530468143279, 0.1479695745493615, 0.6897821288596773, 0.26539460383060953, 0.2282934331945427, 0.5311473071138825, 0.339790452467781, 0.15239552066111484, 0.6300852071961003, 0.4764887777359625, 0.5648313912499151, 0.6090386979056716, 0.27227040705289296, 0.13728936704073905, 0.6890352274742427, 0.4767084362079796, 0.5784467261690815, 0.6898897451350331, 0.28768563515118045, 0.27108345289500924, 0.71973656761646, 0.40630855075232863, 0.3342504390304199, 0.6298553038277386, 0.5137362938868169, 0.46420690038730134, 0.32577532673091214, 0.14890100305766632, 0.3482903174768354, 0.36350428708750426, 0.40100555305006536, 0.25802076600619467, 0.2990349321968988, 0.47061135207383786, 0.17433054054570069, 0.6488620451700181, 0.3930263337764567, 0.1544064977940521, 0.5956756237548912, 0.4722246942987918, 0.4981728814773778, 0.4464320758728303, 0.16252255449959474, 0.19648344264649387, 0.3482742973128199, 0.14752459201080753, 0.250844781950739, 0.37611759286735513, 0.5537370112673552, 0.2917880356914522, 0.39193525524617767, 0.4623367840956961, 0.8340448721737573, 0.18985611719630835, 0.1373518053667945, 0.8251656035699936, 0.1409428284053517, 0.20762114207370697, 0.30594416152612697, 0.3838422552710854, 0.3608765810477602, 0.2789023644355009, 0.4482960715127419, 0.5867862439811558, 0.4169529187650075, 0.3868944348366499, 0.5361767577205614, 0.275027523903827, 0.5771902014768375, 0.6960022198699898, 0.26572117297020653, 0.43249051531581545, 0.13837510102367984, 0.1737707024467905, 0.1470973286440961, 0.2551826403948034, 0.1490861805185341, 0.15422692065636703, 0.6198898842786843, 0.19470297457880736, 0.3676055186479929, 0.3225317370463414, 0.5889035833528025, 0.17687246221635503, 0.24940071304973804, 0.18151921973338309, 0.33532372956991013, 0.14541871626604894, 0.5236334264360147, 0.4057854772166261, 0.3000222491950636, 0.572629713451537, 0.3458185090229983, 0.28247738324481914, 0.23131204868406172, 0.31958491126295596, 0.2680249754423186, 0.4939602142525669, 0.4484467353648843, 0.15755390285557375, 0.24434800499054812, 0.29755951673464753, 0.16841663048272001, 0.2517596107943865, 0.20623919311332528, 0.6080537720229381, 0.46512825236043964, 0.5434890634333357, 0.2599403879312575, 0.6396440589285812, 0.2590674746879994, 0.38165664854535114, 0.36723025936601744, 0.6635170458887718, 0.24261923882648254, 0.30527662499386526, 0.3513507261774203, 0.14229688553364575, 0.3901780078743309, 0.5822447166526761, 0.14691494510526398, 0.24599515278762138, 0.15398119223818246, 0.18255733222074658, 0.544931750383129, 0.4106665528106995, 0.4016990544737046, 0.7678565205470621, 0.17993543844416418, 0.3513561984949538, 0.4511828929551139, 0.33721509283905204, 0.6303581013560077, 0.3790637349176888, 0.2318881643861795, 0.7013447740957263, 0.20077050247298941, 0.574910357787165, 0.2546119682016328, 0.45076083297350394, 0.5242648799826352, 0.34193627156569534, 0.6615702194430886, 0.23482716438281445, 0.17609673420536973, 0.185170342473131, 0.6981447823292609, 0.16555770036258877, 0.2634155994441756, 0.23221613974762945, 0.31649731492965677, 0.16112829657948022, 0.1472071239601053, 0.4636565221631138, 0.13759233868890977, 0.28290156135007166, 0.43895053975530246, 0.4774139406225043, 0.4462965217446039, 0.25093551001070213, 0.5915906866036004, 0.33518267006811653, 0.4089084700403192, 0.4532899254587749, 0.7152715415064151, 0.2623259443662669, 0.36773393993791303, 0.4721060500624734, 0.36623644922305804, 0.5192181121865951, 0.14497512467936569, 0.1564970935233695, 0.25538402153400763, 0.5416112901737427, 0.17150416506437285, 0.58463091916605, 0.16755516369650103, 0.26697938245934977, 0.44082458152600623, 0.3257821947261938, 0.16167806772310722, 0.5033984491416763, 0.5440028810707709, 0.43304081804730515, 0.24967598993462947, 0.22477854615496082, 0.28508878471647314, 0.2809307522245283, 0.2669275783809941, 0.3421676183819466, 0.1397016615795458, 0.2682347481162241, 0.5687919813484665, 0.16486033831483962, 0.43205217316873296, 0.6932934973051845, 0.5670914416357187, 0.638562328998017, 0.6894706728268675, 0.5024930851835198, 0.250025866750394, 0.6263125305861936, 0.29018235987076946, 0.28984862540616957, 0.7091670120431895, 0.35305954398281963, 0.37918291527111125, 0.4758492067739955, 0.5110534750269279, 0.6221094348984118, 0.3208574326859368, 0.705377384913225, 0.5338100813272536, 0.3150970819390899, 0.20870460020346374, 0.14815430432651694, 0.5332769258805095, 0.34922495651670815, 0.18652007367229984, 0.5762270106560121, 0.7507842817590171, 0.13525360449282606, 0.7721694764397808, 0.3829602740407797, 0.40453663085506486, 0.261279449673247, 0.6981304902296653, 0.4182265863509753, 0.843185077479436, 0.6207182955475143, 0.2734275300671511, 0.2530432027597205, 0.47976729126156287, 0.24703545036706365, 0.3349488053949456, 0.1544259313276991, 0.3465705206350096, 0.7672423369087472, 0.33667220163495787, 0.5705457883035105, 0.3734820832737009, 0.15286671046709388, 0.5260852669370301, 0.3913834212750576, 0.14948558804918832, 0.267751281060128, 0.704155414878344, 0.19987426800680128, 0.2569551844268368, 0.2876647847975323, 0.6822006748955686, 0.14037879616485224, 0.5758957718240575, 0.29030567378368016, 0.25306696693357283, 0.4198324050759934, 0.37726668635284544, 0.43688619898725944, 0.4589410341856479, 0.5008717592225296, 0.1574824215467555, 0.6955930255916771, 0.1986767044703219, 0.6994368531105897, 0.5310443590009516, 0.180345488133896, 0.4409942527697892, 0.2451148444352109, 0.44804393244743607, 0.5111507595160246, 0.25474668309087284, 0.5513524501490121, 0.6269931917448603, 0.6063792242551278, 0.4230682715264218, 0.149953558683616, 0.5269630099787327, 0.27812300315169386, 0.6908535029176587, 0.5774072505993324, 0.5814074290850838, 0.6987270554190026, 0.7458625036844442, 0.28223962615413806, 0.1387708958735683, 0.2908815684667843, 0.5521608780115479, 0.49861674330000116, 0.14248382380106095, 0.26851321087111485, 0.39144935310370815, 0.1986899417972702, 0.3565947144465264, 0.7577317549880725, 0.37962886980160193, 0.25396270708669344, 0.5772138459175693, 0.3624976494781955, 0.5324365821514992, 0.700906456611096, 0.2644877143777099, 0.6847817920478493, 0.3978791978581949, 0.6822102951226929, 0.35628080388057703, 0.3039093813890537, 0.7062622855610898, 0.29940213447641467, 0.6382482092973494, 0.32165448071840097, 0.2027462313009682, 0.42938724484082574, 0.15790086403217468, 0.5928932895089525, 0.7594667035775101, 0.5306222318500471, 0.31601660871527254, 0.6620257455981097, 0.37368134715354745, 0.14676644877521594, 0.1972061562788331, 0.3443198430783999, 0.3587497584152716, 0.21127676669101178, 0.479371901827103, 0.42602564468303056, 0.41229067815942716, 0.25421064383073383, 0.5314256946162023, 0.48554323224568086, 0.48414729001028, 0.3695947728992881, 0.2009811527564165, 0.24749190191969864, 0.14965414361648735, 0.3989923447236039, 0.3805707826601063, 0.5078373471040887, 0.5964676550262142, 0.38116369605450623, 0.6289607179130909, 0.666692399906644, 0.5411643812159839, 0.1757185494933657, 0.18512192889669513, 0.5070679022225588, 0.17305509004971895, 0.13844697524449417, 0.4363149113893055, 0.6009420644377375, 0.5312097037486128, 0.14788831465504293, 0.41990857447612095, 0.276813790236626, 0.4461129233557937, 0.5325359626647194, 0.3162861975329468, 0.7040929558435316, 0.17572457897987573, 0.17514766999191428, 0.5024399026894129, 0.25244629341353425, 0.8440712484754982, 0.1697106907750577, 0.500973653863857, 0.3312581726191404, 0.4273689041509095, 0.7044617106307158, 0.14614425352277954, 0.368086079540401, 0.14657460819005838, 0.5709367390441753, 0.5167514317998219, 0.37963140508763565, 0.4591185984692734, 0.27387334847402783, 0.3200672370564232, 0.14571602008391127, 0.6722182062915778, 0.44149279028298444, 0.28908942518450165, 0.5174674345959505, 0.4418738834810139, 0.6020169636319563, 0.7014932081659512, 0.16520888306371798, 0.4003645289795804, 0.18527202656516598, 0.6380635545874388, 0.4047946880571508, 0.440472771914824, 0.18154139022517965, 0.47640017388791683, 0.3648944188102716, 0.7110481232072978, 0.7601992035360139, 0.2693606690922678, 0.690273334152462, 0.525660223108614, 0.31268592540554807, 0.6211021877909702, 0.1600088847395137, 0.25234856701346614, 0.2546176993807769, 0.14974059593517167, 0.22808970164511133, 0.2848187465592695, 0.4260028945653563, 0.14419646386939056, 0.25464153006542134, 0.140051389595485, 0.45539859055332543, 0.1624344813123281, 0.25793847202824877, 0.474580291011731, 0.3978738190352989, 0.5556736096620143, 0.1916378614709733, 0.1416668021286983, 0.13924219867831655, 0.5241660240351999, 0.25961621755447506, 0.6457804228239605, 0.29553289122760046, 0.6085437419615598, 0.6066719967943803, 0.4146279971385542, 0.8474593458908294, 0.24866182021124342, 0.5007259697609253, 0.4782835282625613, 0.4191267275129019, 0.3624742699218815, 0.4784068574047832, 0.5703948643053742, 0.38010716366643293, 0.19771283764572245, 0.522701566803083, 0.47497410778112226, 0.14077550126139232, 0.2897073261575581, 0.27821814252388144, 0.2848918259855169, 0.4219432683711788, 0.597546929106407, 0.13931495218544773, 0.30231050618274674, 0.528516519382531, 0.5323592854023578, 0.2642657322984396, 0.2523727000497736, 0.30241778431127825, 0.611808334062867, 0.2774365313650042, 0.46481068392362723, 0.1332518068230614, 0.24908430398726558, 0.31580428962423923, 0.14699937010030456, 0.31096902864181275, 0.7512316171547424, 0.18712782665112165, 0.34691078787149604, 0.14942246780241825, 0.3141875127919802, 0.7260588459071757, 0.4977728017092232, 0.4149912127671214, 0.4625138118291451, 0.2620853894905005, 0.30079779566817144, 0.4192930982801815, 0.40483825428988024, 0.469497952487153, 0.20864369471882077, 0.4024927981064786, 0.6076351422060619, 0.3699986784662795, 0.37639659705124284, 0.40231260830693916, 0.6073676711140898, 0.3791179643543704, 0.18710322846715138, 0.6929094941400348, 0.1869985998813171, 0.3193097006188026, 0.4906954671882746, 0.17758985645522854, 0.45231878485007865, 0.6223510833892986, 0.37518472913952844, 0.37630278731721767, 0.37562439841152245, 0.5268448950165916, 0.2841523487758675, 0.5320577214816985, 0.1534194867406344, 0.1795866068667451, 0.42852268674889976, 0.2620104566555711, 0.2700246839595813, 0.41651531787696483, 0.5820151390688497, 0.6173349414211775, 0.25913039719837444, 0.41398279019504597, 0.5393770981951155, 0.14670156792607372, 0.6600861812355493, 0.3626617868501409, 0.3266419023392447, 0.15180805779430503, 0.5581992845075481, 0.25229152020335377, 0.45336097774764156, 0.32498926651427384, 0.1778426462878388, 0.6449962381530128, 0.5384400210722933, 0.606523161578372, 0.4301089623680461, 0.5886997502709276, 0.6627904296834615, 0.4744028232012627, 0.712779720616203, 0.6929858398941614, 0.16061919619293516, 0.3614938180663733, 0.46635071852955806, 0.6213206915177375, 0.3075082751454529, 0.5198692284123396, 0.5946460217115208, 0.461605266270297, 0.6335181510183339, 0.5728656746600177, 0.2745080384145759, 0.48076618150469, 0.43450210117753923, 0.6465367713926192, 0.3542274613948724, 0.3222898731287688, 0.5020586249981286, 0.345042128967992, 0.44841694242457797, 0.6112878273465783, 0.516531658224414, 0.3358340179396283, 0.32213983085693726, 0.38514318360701627, 0.24433313149521327, 0.6874088210595649, 0.25894044897945273, 0.5892499540973755, 0.1509154849674294, 0.3440747672030916, 0.1483259509513818, 0.15129431334044108, 0.20264273853155454, 0.15974139302299567, 0.4750997199263827, 0.3579460696554107, 0.18428537306165027, 0.5247904941557611, 0.13773150357361866, 0.14530619936695088, 0.29792040478038606, 0.4267689714531977, 0.8106664122459715, 0.15388836107303772, 0.2064378953466523, 0.2616267255460261, 0.26987801110152304, 0.2650708713403991, 0.32821407957018256, 0.28221279775040536, 0.35373344271588764, 0.5675734817985251, 0.282294800313251, 0.32807274663051406, 0.7096111622173802, 0.1395346671617234, 0.41037523449241653, 0.13903609130304212, 0.6182989283481808, 0.19731166175977646, 0.7847071875030619, 0.49179503692739407, 0.4817940563042798, 0.2018109725504853, 0.26683267630113494, 0.5648825997257704, 0.35510130352736524, 0.27269282904293307, 0.43653323153141665, 0.1373900183403698, 0.2511968074749826, 0.5999376901081731, 0.24811255287412637, 0.5680164866316555, 0.8197067476110217, 0.5471619656322342, 0.31567004944703314, 0.6052132388252829, 0.5308418641899632, 0.6445027338627347, 0.14947648743808678, 0.2558131966207388, 0.3849047535264959, 0.14759919363762444, 0.2641565937654588, 0.1436456265773569, 0.8631565143908103, 0.42931478762417374, 0.2787573926640152, 0.32421615824432254, 0.21224347193765922, 0.37633572334448817, 0.13688946605477637, 0.6911975620633073, 0.572126549140248, 0.15695846304157496, 0.5324602895128381, 0.24464279259335958, 0.34908958403533463, 0.2925483560777835, 0.31001754884629623, 0.248302327187435, 0.318342594815331, 0.5300896973776946, 0.21262517348577917, 0.7088599507639487, 0.4581554955297158, 0.2514283532181683, 0.5730461272681577, 0.18112290666437317, 0.43430573643036413, 0.46912860960316405, 0.3615622603585428, 0.13896638193539834, 0.6848056059276995, 0.47096214250721485, 0.7245680221181551, 0.37049900926808216, 0.16166591315781087, 0.16230090478583972, 0.5016626174083799, 0.30774499660298527, 0.14545460482956452, 0.5520069118448095, 0.38680411288858846, 0.6138880063019713, 0.2861975256749151, 0.16180075592155696, 0.44305954938488357, 0.4118851724279917, 0.35286496070631224, 0.486756172688816, 0.1470439328394979, 0.22294478246151694, 0.2878157594575491, 0.20648330964234293, 0.6483614099927453, 0.3446975449861987, 0.24657568571630153, 0.15360289074471029, 0.34998606238364965, 0.7309212404027242, 0.3623156630285344, 0.6841161504853616, 0.4511083707908505, 0.7333635033584234, 0.43834964532524556, 0.38711979035275074, 0.4106766363908267, 0.3962883611508421, 0.28922954147614266, 0.5597915856620425, 0.6509989426319202, 0.21923998759846908, 0.341806484953483, 0.15705954388608198, 0.5701221316616361, 0.4527846772967302, 0.5866805749010411, 0.2611390312981601, 0.5249464463767658, 0.4124217968845397, 0.14047856979720813, 0.39374999196099797, 0.42307203528092285, 0.1623832914244618, 0.1405957125410514, 0.23876136703461726, 0.2113972639756295, 0.539791393795474, 0.3459821199645726, 0.4606942629104663, 0.7350355364171015, 0.3026857282236001, 0.44239397578796424, 0.23801777555204923, 0.6417910507120469, 0.25232938879993927, 0.2562958359224245, 0.38826492494595277, 0.2606620898656213, 0.6602844849182435, 0.30731432314781526, 0.26760184478005045, 0.722526356058361, 0.34896353759081766, 0.5908329338583731, 0.28411320395789746, 0.5539091232653195, 0.335518263565091, 0.25311824928759274, 0.4896634186161586, 0.41775821719405387, 0.250196282028226, 0.658525503184814, 0.3551868898133869, 0.16624652162826845, 0.3220463203444211, 0.14765424873100663, 0.6642184249805226, 0.6912648310950884, 0.648685381531903, 0.5291390039962461, 0.48720711526041843, 0.14572043438411722, 0.6943740890222757, 0.4137986946439246, 0.7154261768034029, 0.3307452723010633, 0.6032879382729586, 0.1799191736635589, 0.3925413477114607, 0.40442504589805567, 0.5303109711209735, 0.25416608567363336, 0.17808605327575, 0.257163780177423, 0.7125400958832333, 0.45718087195255486, 0.6944418886962385, 0.1578653268185155, 0.1487352164018196, 0.2355946103414451, 0.5274374030403848, 0.1492758466898637, 0.4858586432575541, 0.5513295119085413, 0.5351469599600154, 0.13832652275128604, 0.6746918818415105, 0.44902791279513365, 0.16101403774524511, 0.4736955411272373, 0.5505445227718863, 0.43585681825005457, 0.7114300949704362, 0.16536319798851612, 0.2070306743270919, 0.2851479885976725, 0.613325119957538, 0.658737679869612, 0.16122776989106494, 0.23903464870785168, 0.24929077447944406, 0.3552473420818823, 0.530292349750751, 0.2019858179993464, 0.13925857293839225, 0.18167584179541327, 0.4279600847721772, 0.14138619089617968, 0.25081876912781964, 0.3120736048721644, 0.5700262494616615, 0.15787363620833444, 0.3402149940497768, 0.21358258325847893, 0.6968260570503674, 0.6328084027289947, 0.3245555536152742, 0.270552666361849, 0.3860234955684206, 0.32238744575282796, 0.23119778563832238, 0.5253357659139153, 0.1393617710147256, 0.36453955105518737, 0.14229412464386046, 0.5205828385411866, 0.6480226655713841, 0.3377735409353471, 0.29011599861804604, 0.4718884997386519, 0.32636835579037915, 0.4200854178117035, 0.2513290208853863, 0.14736254001196913, 0.3623506892900123, 0.558145799463626, 0.6859194251159336, 0.33413837079817477, 0.1506808301892103, 0.15249924602229747, 0.40995173250503064, 0.2820206475061345, 0.1913939741518637, 0.6229774329781083, 0.2633787235604342, 0.29438865768972733, 0.14248414258572648, 0.4003521195186511, 0.3732456575649169, 0.3589707101934991, 0.44436938654789365, 0.2820327306701967, 0.36751090211173004, 0.6172591511613683, 0.6771292256309617, 0.575641248624055, 0.8490201146163882, 0.690198564560102, 0.3238214569591436, 0.22476483325999347, 0.24895584583552685, 0.15345506665342729, 0.3096841361001152, 0.20992019759289346, 0.669048187105907, 0.47963246622409605, 0.44756105563355925, 0.2895235805066124, 0.8177789489542344, 0.25958843926893255, 0.1492371410934088, 0.27781682379505457, 0.6504554350198115, 0.5917255553533282, 0.6293124066289967, 0.24909552071920293, 0.5352096004901112, 0.7012313403466692, 0.2763391050761831, 0.45442813370475077, 0.18117539964362436, 0.4360369774066561, 0.6670685202460026, 0.3073554485911036, 0.3762147287815028, 0.6116662400113948, 0.33271248245515406, 0.31883355726755075]}\n"
     ]
    }
   ],
   "source": [
    "import requests\n",
    "import json\n",
    "\n",
    "\n",
    "data = {'dataframe_records': X_test.values.tolist()}\n",
    "headers = {\"Content-Type\": \"application/json\"}\n",
    "\n",
    "response = requests.post(\"http://localhost:8004/invocations\", data=json.dumps(data), headers=headers)\n",
    "predictions = response.json()\n",
    "\n",
    "print(predictions)"
   ]
  },
  {
   "cell_type": "code",
   "execution_count": null,
   "id": "07651acf-0185-4eb1-9638-0a91cb2bbebd",
   "metadata": {},
   "outputs": [],
   "source": []
  },
  {
   "cell_type": "code",
   "execution_count": null,
   "id": "1043ffc6-090e-4638-8dfa-3d7d6318b2fd",
   "metadata": {},
   "outputs": [],
   "source": []
  },
  {
   "cell_type": "code",
   "execution_count": null,
   "id": "aafaef45-3658-4816-90aa-15dd436d2858",
   "metadata": {},
   "outputs": [],
   "source": []
  },
  {
   "cell_type": "code",
   "execution_count": null,
   "id": "06db5da1-2aae-4d2b-a776-98ad1c513b5a",
   "metadata": {},
   "outputs": [],
   "source": []
  },
  {
   "cell_type": "code",
   "execution_count": null,
   "id": "6f054a94",
   "metadata": {},
   "outputs": [],
   "source": []
  },
  {
   "cell_type": "code",
   "execution_count": null,
   "id": "83d6b766",
   "metadata": {},
   "outputs": [],
   "source": []
  },
  {
   "cell_type": "code",
   "execution_count": null,
   "id": "eda796fd",
   "metadata": {},
   "outputs": [],
   "source": []
  },
  {
   "cell_type": "code",
   "execution_count": null,
   "id": "f9c664f7",
   "metadata": {},
   "outputs": [],
   "source": []
  }
 ],
 "metadata": {
  "kernelspec": {
   "display_name": "Python 3 (ipykernel)",
   "language": "python",
   "name": "python3"
  },
  "language_info": {
   "codemirror_mode": {
    "name": "ipython",
    "version": 3
   },
   "file_extension": ".py",
   "mimetype": "text/x-python",
   "name": "python",
   "nbconvert_exporter": "python",
   "pygments_lexer": "ipython3",
   "version": "3.11.7"
  }
 },
 "nbformat": 4,
 "nbformat_minor": 5
}
